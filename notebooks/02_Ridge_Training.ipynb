{
  "cells": [
    {
      "cell_type": "markdown",
      "metadata": {
        "id": "ECn3IRuEQzSy"
      },
      "source": [
        "# THUẬT TOÁN RIDGE REGRESSION\n",
        "# 1. Giới thiệu\n",
        "Chúng ta sẽ thực hiện dự đoán kết quả thi cuối kỳ dựa trên các điểm thành phần như cw1, mid-term, và cw2. Mô hình sử dụng Ridge Regression (hồi quy Ridge) nhằm giảm thiểu overfitting thông qua tham số regularization λ. Ridge Regression là một dạng hồi quy tuyến tính với một điều khoản thêm vào nhằm phạt các trọng số lớn, làm cho mô hình trở nên ổn định hơn.\n"
      ]
    },
    {
      "cell_type": "markdown",
      "metadata": {
        "id": "PmXJJyQrRPyP"
      },
      "source": [
        "# 2. Import các thư viện cần thiết"
      ]
    },
    {
      "cell_type": "code",
      "execution_count": 18,
      "metadata": {
        "id": "xV03TlRlmPF6"
      },
      "outputs": [],
      "source": [
        "import numpy as np\n",
        "import matplotlib.pyplot as plt\n",
        "import pandas as pd"
      ]
    },
    {
      "cell_type": "markdown",
      "metadata": {
        "id": "JeotHZRCmU7u"
      },
      "source": [
        "*   NumPy: Thư viện quan trọng cho các phép toán số học trên mảng.\n",
        "\n",
        "*   matplotlib.pyplot: Sử dụng để vẽ biểu đồ, ví dụ như biểu đồ lỗi theo các giá trị λ.\n",
        "\n",
        "*   pandas: Được sử dụng để đọc và xử lý dữ liệu từ các file CSV, dữ liệu đầu vào dưới dạng DataFrame.\n",
        "\n"
      ]
    },
    {
      "cell_type": "markdown",
      "metadata": {
        "id": "Rs0sBsU1Vdii"
      },
      "source": [
        "#3. Mô tả chi tiết các hàm"
      ]
    },
    {
      "cell_type": "markdown",
      "metadata": {
        "id": "fbwrmc75dmmg"
      },
      "source": [
        "***Trong ridge_plots.py***"
      ]
    },
    {
      "cell_type": "markdown",
      "metadata": {
        "id": "FVNJyG0Cd06I"
      },
      "source": [
        "**Hàm plot_errors**"
      ]
    },
    {
      "cell_type": "code",
      "execution_count": 19,
      "metadata": {
        "id": "z3qXSgeZeRq-"
      },
      "outputs": [],
      "source": [
        "def plot_errors(lamda_values, errors):\n",
        "    plt.plot(lamda_values, errors)\n",
        "    plt.xlabel('Giá trị λ')\n",
        "    plt.ylabel('Lỗi trung bình')\n",
        "    plt.title('Lỗi theo các giá trị λ')\n",
        "    plt.show()"
      ]
    },
    {
      "cell_type": "markdown",
      "metadata": {
        "id": "la1lI_5GeSim"
      },
      "source": [
        "\n",
        "\n",
        "*   Vẽ biểu đồ lỗi trung bình theo các giá trị λ, cho phép người dùng thấy rõ mối quan hệ giữa λ và lỗi.\n",
        "\n"
      ]
    },
    {
      "cell_type": "markdown",
      "metadata": {
        "id": "bWVngVQecn2i"
      },
      "source": [
        "#*Trong ridge_utils.py*"
      ]
    },
    {
      "cell_type": "markdown",
      "metadata": {
        "id": "jFy_h-dtc8YQ"
      },
      "source": [
        "**Hàm load_fold_data**"
      ]
    },
    {
      "cell_type": "code",
      "execution_count": 29,
      "metadata": {
        "id": "T-cJni8ndDhN"
      },
      "outputs": [],
      "source": [
        "def load_fold_data(fold_number):\n",
        "    \"\"\"Đọc dữ liệu của một fold từ file CSV.\"\"\"\n",
        "    train_data = pd.read_csv(f'data/split/K-folds/fold_{fold_number}_train.csv')\n",
        "    val_data = pd.read_csv(f'data/split/K-folds/fold_{fold_number}_val.csv')\n",
        "\n",
        "    # Tách biến đầu vào (cw1, mid-term, cw2) và biến đầu ra (final)\n",
        "    X_train = train_data[['cw1', 'mid-term', 'cw2']].values\n",
        "    y_train = train_data['final'].values\n",
        "\n",
        "    X_val = val_data[['cw1', 'mid-term', 'cw2']].values\n",
        "    y_val = val_data['final'].values\n",
        "\n",
        "    return X_train, y_train, X_val, y_val"
      ]
    },
    {
      "cell_type": "markdown",
      "metadata": {
        "id": "sjOxWNccdXa-"
      },
      "source": [
        "\n",
        "\n",
        "*   Đọc dữ liệu cho một fold cụ thể từ file CSV.\n",
        "\n",
        "\n"
      ]
    },
    {
      "cell_type": "markdown",
      "metadata": {
        "id": "-bzmvY3PdZ2H"
      },
      "source": [
        "**Hàm load_data_from**"
      ]
    },
    {
      "cell_type": "code",
      "execution_count": 21,
      "metadata": {
        "id": "qXeO0ksyddOv"
      },
      "outputs": [],
      "source": [
        "def load_data_from(path):\n",
        "    input = pd.read_csv(f'{path}')\n",
        "    data = input[['cw1', 'mid-term', 'cw2']].values\n",
        "    label = input[['final']].values\n",
        "    return data, label"
      ]
    },
    {
      "cell_type": "markdown",
      "metadata": {
        "id": "ee4kSTCkdiT6"
      },
      "source": [
        "\n",
        "\n",
        "*  Tải dữ liệu từ file CSV và tách thành đầu vào và đầu ra.\n",
        "\n",
        "\n"
      ]
    },
    {
      "cell_type": "markdown",
      "metadata": {
        "id": "N2ANtDm1cvQ_"
      },
      "source": [
        "# *trong ridge_model.py*"
      ]
    },
    {
      "cell_type": "markdown",
      "metadata": {
        "id": "l1t7vYN0bVx1"
      },
      "source": [
        "**Hàm ridge_regression**"
      ]
    },
    {
      "cell_type": "code",
      "execution_count": 22,
      "metadata": {
        "id": "OZagMChfbiYo"
      },
      "outputs": [],
      "source": [
        "def ridge_regression(X, y, lamda):\n",
        "    ones = np.ones((X.shape[0], 1))\n",
        "    Xbar = np.concatenate((ones, X), axis=1)\n",
        "\n",
        "    A = np.dot(Xbar.T, Xbar) + lamda * np.identity(Xbar.shape[1])\n",
        "    b = np.dot(Xbar.T, y)\n",
        "    w = np.dot(np.linalg.pinv(A), b)\n",
        "\n",
        "    return w"
      ]
    },
    {
      "cell_type": "markdown",
      "metadata": {
        "id": "aVyaWO9VbrKq"
      },
      "source": [
        "\n",
        "\n",
        "*  Đọc dữ liệu cho một fold cụ thể từ file CSV.\n"
      ]
    },
    {
      "cell_type": "markdown",
      "metadata": {
        "id": "gjf9lz3fbt3y"
      },
      "source": [
        "**Hàm train_on_folds**"
      ]
    },
    {
      "cell_type": "code",
      "execution_count": 23,
      "metadata": {
        "id": "lry3VrYrcTKP"
      },
      "outputs": [],
      "source": [
        "def train_on_folds(fold_count, lamda_values):\n",
        "    best_lamda = None\n",
        "    lowest_error = float('inf')\n",
        "    avg_errors = []\n",
        "\n",
        "    for lamda in lamda_values:\n",
        "        fold_errors = []\n",
        "        for i in range(fold_count):\n",
        "            X_train, y_train, X_val, y_val = load_fold_data(i)\n",
        "            w = ridge_regression(X_train, y_train, lamda)\n",
        "            y_pred = np.dot(np.concatenate((np.ones((X_val.shape[0], 1)), X_val), axis=1), w)\n",
        "            error = np.mean((y_val - y_pred) ** 2)\n",
        "            fold_errors.append(error)\n",
        "\n",
        "        avg_error = np.mean(fold_errors)\n",
        "        avg_errors.append(avg_error)\n",
        "\n",
        "        if avg_error < lowest_error:\n",
        "            lowest_error = avg_error\n",
        "            best_lamda = lamda\n",
        "\n",
        "    return best_lamda, avg_errors\n"
      ]
    },
    {
      "cell_type": "markdown",
      "metadata": {
        "id": "UzBoQHwicUEq"
      },
      "source": [
        "\n",
        "\n",
        "\n",
        "*  Hàm này thực hiện cross-validation để tìm λ tối ưu. Nó đọc dữ liệu cho từng fold, huấn luyện mô hình và tính lỗi trung bình.\n",
        "\n"
      ]
    },
    {
      "cell_type": "markdown",
      "metadata": {
        "id": "Uex7SJ6fcZWF"
      },
      "source": [
        "**Hàm predict**"
      ]
    },
    {
      "cell_type": "code",
      "execution_count": 24,
      "metadata": {
        "id": "9zU6U6INceqv"
      },
      "outputs": [],
      "source": [
        "def predict(X, w):\n",
        "    \"\"\"\n",
        "    Dự đoán đầu ra từ X với trọng số w.\n",
        "    \"\"\"\n",
        "    ones = np.ones((X.shape[0], 1))\n",
        "    Xbar = np.concatenate((ones, X), axis=1)\n",
        "    return np.dot(Xbar, w)"
      ]
    },
    {
      "cell_type": "markdown",
      "metadata": {
        "id": "2Oe91Rj4cjAs"
      },
      "source": [
        "\n",
        "\n",
        "*  Dự đoán đầu ra từ đầu vào X với trọng số w.\n",
        "\n",
        "\n"
      ]
    },
    {
      "cell_type": "markdown",
      "metadata": {
        "id": "dFHNVPhAS5NL"
      },
      "source": [
        "#4. Thiết lập các giá trị λ cần kiểm tra\n"
      ]
    },
    {
      "cell_type": "code",
      "execution_count": 25,
      "metadata": {
        "id": "4SvD9ZJNTMch"
      },
      "outputs": [],
      "source": [
        "lamda_values = np.logspace(-2, 1, num=100)\n"
      ]
    },
    {
      "cell_type": "markdown",
      "metadata": {
        "id": "C-om97lSTRwZ"
      },
      "source": [
        "**Giải thích:**\n",
        "\n",
        "\n",
        "*  lamda_values là danh sách các giá trị λ từ\n",
        "10^-2 đến 10^1 (0.01 đến 10), được tạo trên thang logarit. Điều này giúp chúng ta kiểm tra ảnh hưởng của các giá trị lambda khác nhau lên mô hình."
      ]
    },
    {
      "cell_type": "markdown",
      "metadata": {
        "id": "eyzITx7pUG31"
      },
      "source": [
        "#5. Huấn luyện mô hình và tìm giá trị λ tối ưu\n"
      ]
    },
    {
      "cell_type": "code",
      "execution_count": 30,
      "metadata": {
        "id": "VsK-CVdukJyX"
      },
      "outputs": [
        {
          "name": "stdout",
          "output_type": "stream",
          "text": [
            "Giá trị λ tối ưu: 8.111308307896872\n"
          ]
        }
      ],
      "source": [
        "best_lamda, avg_errors = train_on_folds(fold_count=5, lamda_values=lamda_values)\n",
        "print(f'Giá trị λ tối ưu: {best_lamda}')"
      ]
    },
    {
      "cell_type": "markdown",
      "metadata": {
        "id": "2kgWxm2LUMOC"
      },
      "source": [
        "**Giải thích:**\n",
        "\n",
        "*   train_on_folds: Chúng ta chia dữ liệu thành 5 fold để thực hiện cross-validation. Mỗi lần huấn luyện, mô hình được huấn luyện trên 4 fold và kiểm tra trên 1 fold còn lại.\n",
        "*  best_lamda: Trả về giá trị λ mang lại lỗi thấp nhất (tốt nhất) trên các fold.\n",
        "\n",
        "\n",
        "\n",
        "\n",
        "\n"
      ]
    },
    {
      "cell_type": "markdown",
      "metadata": {
        "id": "sHgGXHBPUmfZ"
      },
      "source": [
        "#6. Lưu mô hình với λ tốt nhất"
      ]
    },
    {
      "cell_type": "code",
      "execution_count": 38,
      "metadata": {
        "id": "7A5_jo3-Ut7d"
      },
      "outputs": [
        {
          "name": "stdout",
          "output_type": "stream",
          "text": [
            "Trọng số w =  [[-0.07498871]\n",
            " [-0.02272326]\n",
            " [ 0.08349226]\n",
            " [ 0.93073971]]\n"
          ]
        }
      ],
      "source": [
        "X_train, y_train = load_data_from('data/split/train_data.csv')\n",
        "w = ridge_regression(X_train, y_train, best_lamda)\n",
        "print('Trọng số w = ', w)\n",
        "np.save('ridge_model_weights.npy', w)\n"
      ]
    },
    {
      "cell_type": "markdown",
      "metadata": {
        "id": "b5sCJ0u0Uuyr"
      },
      "source": [
        "**Giải thích:**\n",
        "\n",
        "*  ridge_regression: Hàm chính thực hiện thuật toán Ridge Regression để tính trọng số w dựa trên giá trị λ tốt nhất.\n",
        "*   np.save: Lưu trọng số đã tính toán được vào file .npy để sau này có thể tải lại và sử dụng khi dự đoán\n",
        "\n",
        "\n",
        "\n"
      ]
    },
    {
      "cell_type": "markdown",
      "metadata": {
        "id": "TRaaU9S5U_Az"
      },
      "source": [
        "#7. Dự đoán trên tập test\n"
      ]
    },
    {
      "cell_type": "code",
      "execution_count": 41,
      "metadata": {
        "id": "LeuOJvLAVA0R"
      },
      "outputs": [],
      "source": [
        "X_test, y_test = load_data_from('data/split/test_data.csv')\n",
        "weights = np.load('ridge_model_weights.npy')  # Tải trọng số từ file\n",
        "y_pred = predict(X_test, weights)\n"
      ]
    },
    {
      "cell_type": "markdown",
      "metadata": {
        "id": "v1jem9LRVCmx"
      },
      "source": [
        "**Giải thích:**\n",
        "\n",
        "*  Chúng ta tải dữ liệu test và trọng số đã huấn luyện để dự đoán kết quả.\n",
        "*  predict: Hàm dự đoán đầu ra dựa trên dữ liệu test và trọng số w đã huấn luyện.\n",
        "\n",
        "\n",
        "\n",
        "\n"
      ]
    },
    {
      "cell_type": "markdown",
      "metadata": {
        "id": "BbYFnWXmVPjH"
      },
      "source": [
        "#8. Tính lỗi và vẽ biểu đồ lỗi theo các giá trị λ"
      ]
    },
    {
      "cell_type": "code",
      "execution_count": 40,
      "metadata": {
        "id": "v8xfJmtVkNiG"
      },
      "outputs": [
        {
          "name": "stdout",
          "output_type": "stream",
          "text": [
            "Lỗi trung bình trên tập test: 0.3647525925528757\n"
          ]
        },
        {
          "data": {
            "image/png": "[encoded data removed]",
            "text/plain": [
              "<Figure size 640x480 with 1 Axes>"
            ]
          },
          "metadata": {},
          "output_type": "display_data"
        }
      ],
      "source": [
        "mse_test = np.mean((y_test - y_pred) ** 2)\n",
        "print(f'Lỗi trung bình trên tập test: {mse_test}')\n",
        "plot_errors(lamda_values, avg_errors)"
      ]
    },
    {
      "cell_type": "markdown",
      "metadata": {
        "id": "v4y70o-ykRZO"
      },
      "source": [
        "**Giải thích:**\n",
        "\n",
        "*   mse_test: Tính lỗi bình phương trung bình (Mean Squared Error - MSE) trên tập test, giúp đánh giá mức độ chính xác của mô hình.\n",
        "*   plot_errors: Vẽ biểu đồ lỗi theo từng giá trị λ, cho phép trực quan hóa kết quả để kiểm tra xem mô hình có hoạt động tốt hay không.\n",
        "\n",
        "\n",
        "\n",
        "\n"
      ]
    }
  ],
  "metadata": {
    "colab": {
      "provenance": []
    },
    "kernelspec": {
      "display_name": "Python 3",
      "name": "python3"
    },
    "language_info": {
      "codemirror_mode": {
        "name": "ipython",
        "version": 3
      },
      "file_extension": ".py",
      "mimetype": "text/x-python",
      "name": "python",
      "nbconvert_exporter": "python",
      "pygments_lexer": "ipython3",
      "version": "3.11.4"
    }
  },
  "nbformat": 4,
  "nbformat_minor": 0
}
