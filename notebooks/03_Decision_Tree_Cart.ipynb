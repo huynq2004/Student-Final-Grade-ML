{
  "cells": [
    {
      "cell_type": "markdown",
      "metadata": {
        "id": "i2OjfQpdE2L4"
      },
      "source": [
        " # Thuật toán Decision Tree - CART"
      ]
    },
    {
      "cell_type": "markdown",
      "metadata": {
        "id": "r6lGmKWfE8YB"
      },
      "source": [
        "# 1. Import thư viện"
      ]
    },
    {
      "cell_type": "code",
      "execution_count": 12,
      "metadata": {
        "id": "ccVPSa5WFBrb"
      },
      "outputs": [],
      "source": [
        "import numpy as np\n",
        "import matplotlib.pyplot as plt\n",
        "from sklearn.model_selection import KFold\n",
        "import pandas as pd\n",
        "\n",
        "\n"
      ]
    },
    {
      "cell_type": "markdown",
      "metadata": {
        "id": "q_m99JvgFExs"
      },
      "source": [
        "*Giải thích*\n",
        "\n",
        "* numpy: Được sử dụng để xử lý các phép toán ma trận và tính toán hiệu quả.\n",
        "\n",
        "*   matplotlib.pyplot: Dùng để vẽ biểu đồ, giúp trực quan hóa dữ liệu và kết quả.\n",
        "* pandas: đọc dữ liệu từ file CSV.\n",
        "\n",
        "*  KFold: chia dữ liệu thành các tập con (folds) phục vụ cho quá trình cross-validation.\n",
        "\n",
        "\n"
      ]
    },
    {
      "cell_type": "markdown",
      "metadata": {
        "id": "ydyJEiw9MULM"
      },
      "source": [
        "# 2.Định nghĩa lớp DecisionTree"
      ]
    },
    {
      "cell_type": "code",
      "execution_count": 13,
      "metadata": {
        "id": "n2BouCCdMX9C"
      },
      "outputs": [],
      "source": [
        "class DecisionTree:\n",
        "    def __init__(self, max_depth=None):\n",
        "        self.max_depth = max_depth\n",
        "        self.tree = None\n",
        "\n",
        "    def fit(self, X, y):\n",
        "        self.tree = self._build_tree(X, y, depth=0)\n",
        "\n",
        "    def predict(self, X):\n",
        "        return np.array([self._predict_one(x, self.tree) for x in X])\n",
        "\n",
        "    def _build_tree(self, X, y, depth):\n",
        "        if depth == self.max_depth or len(np.unique(y)) == 1:\n",
        "            return np.mean(y)\n",
        "\n",
        "        best_feature, best_threshold = self._best_split(X, y)\n",
        "        if best_feature is None:\n",
        "            return np.mean(y)\n",
        "\n",
        "        left_indices = X[:, best_feature] <= best_threshold\n",
        "        right_indices = X[:, best_feature] > best_threshold\n",
        "\n",
        "        left_tree = self._build_tree(X[left_indices], y[left_indices], depth + 1)\n",
        "        right_tree = self._build_tree(X[right_indices], y[right_indices], depth + 1)\n",
        "\n",
        "        return (best_feature, best_threshold, left_tree, right_tree)\n",
        "\n",
        "    def _predict_one(self, x, tree):\n",
        "        if not isinstance(tree, tuple):\n",
        "            return tree\n",
        "        feature, threshold, left_tree, right_tree = tree\n",
        "        if x[feature] <= threshold:\n",
        "            return self._predict_one(x, left_tree)\n",
        "        else:\n",
        "            return self._predict_one(x, right_tree)\n",
        "\n",
        "    def _best_split(self, X, y):\n",
        "        best_feature = None\n",
        "        best_threshold = None\n",
        "        best_mse = float('inf')\n",
        "\n",
        "        for feature in range(X.shape[1]):\n",
        "            thresholds = np.unique(X[:, feature])\n",
        "            for threshold in thresholds:\n",
        "                left_indices = X[:, feature] <= threshold\n",
        "                right_indices = X[:, feature] > threshold\n",
        "\n",
        "                if len(y[left_indices]) == 0 or len(y[right_indices]) == 0:\n",
        "                    continue\n",
        "\n",
        "                mse = self._calculate_mse(y[left_indices], y[right_indices])\n",
        "\n",
        "                if mse < best_mse:\n",
        "                    best_mse = mse\n",
        "                    best_feature = feature\n",
        "                    best_threshold = threshold\n",
        "\n",
        "        return best_feature, best_threshold\n",
        "\n",
        "    def _calculate_mse(self, left_y, right_y):\n",
        "        left_mse = np.mean((left_y - np.mean(left_y)) ** 2) if len(left_y) > 0 else 0\n",
        "        right_mse = np.mean((right_y - np.mean(right_y)) ** 2) if len(right_y) > 0 else 0\n",
        "        return (len(left_y) * left_mse + len(right_y) * right_mse) / (len(left_y) + len(right_y))\n"
      ]
    },
    {
      "cell_type": "markdown",
      "metadata": {
        "id": "lqnAkTHhMeNO"
      },
      "source": [
        "*Giải thích*\n",
        "\n",
        "*   Hàm fit(X, y): Dùng để huấn luyện mô hình dựa trên dữ liệu đầu vào X (biến độc lập) và y (biến phụ thuộc). Nó gọi phương thức _build_tree để xây dựng cây quyết định.\n",
        "\n",
        "*   Hàm _build_tree: Xây dựng cây quyết định đệ quy, kiểm tra từng nhánh để xác định cách phân chia tốt nhất dựa trên đặc trưng của dữ liệu.\n",
        "\n",
        "*  Hàm _best_split: Tìm kiếm cách phân chia tốt nhất dữ liệu dựa trên giá trị ngưỡng (threshold) sao cho lỗi bình phương trung bình (MSE) là nhỏ nhất.\n",
        "*  Hàm predict(X): Dùng để dự đoán kết quả cho một tập dữ liệu mới.\n",
        "\n",
        "\n",
        "\n"
      ]
    },
    {
      "cell_type": "markdown",
      "metadata": {
        "id": "oB1hXpKHFdwG"
      },
      "source": [
        "\n",
        "\n",
        "# 3. Hàm để tải dữ liệu từ các fold (cross-validation)\n"
      ]
    },
    {
      "cell_type": "code",
      "execution_count": 18,
      "metadata": {
        "id": "veGXWDgkF9O7"
      },
      "outputs": [],
      "source": [
        "def load_fold_data(fold_number):\n",
        "    train_data = pd.read_csv(f'D:/NgoChucNgoc64KTPM2/HocMayG3/Student-Final-Grade-ML/data/split/K-folds/fold_{fold_number}_train.csv')\n",
        "    val_data = pd.read_csv(f'D:/NgoChucNgoc64KTPM2/HocMayG3/Student-Final-Grade-ML/data/split/K-folds/fold_{fold_number}_val.csv')\n",
        "\n",
        "    X_train = train_data[['cw1', 'mid-term', 'cw2']].values\n",
        "    y_train = train_data['final'].values\n",
        "    X_val = val_data[['cw1', 'mid-term', 'cw2']].values\n",
        "    y_val = val_data['final'].values\n",
        "\n",
        "    return X_train, y_train, X_val, y_val\n",
        "\n",
        "def load_data_from(path):\n",
        "    input = pd.read_csv(f'{path}')\n",
        "    data = input[['cw1', 'mid-term', 'cw2']].values\n",
        "    label = input[['final']].values\n",
        "    return data, label\n"
      ]
    },
    {
      "cell_type": "markdown",
      "metadata": {
        "id": "p8P9yB8DGDjD"
      },
      "source": [
        "*Giải thích*\n",
        "\n",
        "*  load_fold_data: Hàm này đọc dữ liệu từ các file CSV chứa các fold cho quá trình cross-validation. Tập dữ liệu bao gồm các biến đầu vào (cw1, mid-term, cw2) và biến mục tiêu (final).\n",
        "*  load_data_from: Hàm này đọc dữ liệu từ một file CSV được cung cấp và trả về dữ liệu đầu vào và đầu ra dưới dạng mảng numpy.\n",
        "\n"
      ]
    },
    {
      "cell_type": "markdown",
      "metadata": {
        "id": "ot5bxKfBGO7e"
      },
      "source": [
        "# 4. Hàm để vẽ biểu đồ lỗi theo độ sâu"
      ]
    },
    {
      "cell_type": "code",
      "execution_count": 19,
      "metadata": {
        "id": "Axj8h_5PHBY7"
      },
      "outputs": [],
      "source": [
        "def plot_errors(depths, errors):\n",
        "    plt.plot(depths, errors)\n",
        "    plt.xlabel('Giá trị độ sâu')\n",
        "    plt.ylabel('Lỗi trung bình ')\n",
        "    plt.title('Lỗi theo các giá trị độ sâu')\n",
        "    plt.show()\n"
      ]
    },
    {
      "cell_type": "markdown",
      "metadata": {
        "id": "8yFwSQ0SHD9e"
      },
      "source": [
        "*Giải thích*\n",
        "\n",
        "*   Giải thích: Hàm này tải dữ liệu từ file CSV theo từng fold trong quá trình cross-validation. Nó chia dữ liệu thành tập huấn luyện (train) và tập kiểm tra (val) để huấn luyện và đánh giá mô hình..\n",
        "\n",
        "\n",
        "\n"
      ]
    },
    {
      "cell_type": "markdown",
      "metadata": {
        "id": "xg1ZTHtzHMav"
      },
      "source": [
        "# 5.Thiết lập độ sâu cần kiểm tra cho cây quyết định"
      ]
    },
    {
      "cell_type": "code",
      "execution_count": 20,
      "metadata": {
        "id": "og5bcdxoHWfs"
      },
      "outputs": [],
      "source": [
        "depth_values = range(1, 11)\n"
      ]
    },
    {
      "cell_type": "markdown",
      "metadata": {
        "id": "WhJr6l7gHcnP"
      },
      "source": [
        "*Giải thích*\n",
        "\n",
        "*  Giới hạn độ sâu: Bạn sẽ thử nghiệm các giá trị độ sâu từ 1 đến 10 để tìm ra giá trị phù hợp nhất cho cây quyết định. Độ sâu của cây quyết định quyết định số lượng lần phân chia dữ liệu, cây càng sâu thì mô hình càng phức tạp.\n",
        "\n",
        "\n",
        "\n"
      ]
    },
    {
      "cell_type": "markdown",
      "metadata": {
        "id": "TiVjB1CSHigG"
      },
      "source": [
        "# 6.Huấn luyện mô hình với cross-validation và tìm độ sâu tối ưu"
      ]
    },
    {
      "cell_type": "code",
      "execution_count": 21,
      "metadata": {
        "id": "qgmVwScrHn83"
      },
      "outputs": [
        {
          "name": "stdout",
          "output_type": "stream",
          "text": [
            "Depth = 1, Average Fold Error = 0.7286371099806551\n",
            "Depth = 2, Average Fold Error = 0.4076676705849337\n",
            "Depth = 3, Average Fold Error = 0.34964791031771536\n",
            "Depth = 4, Average Fold Error = 0.33702353155102416\n",
            "Depth = 5, Average Fold Error = 0.34626480625902295\n",
            "Depth = 6, Average Fold Error = 0.34901282144566015\n",
            "Depth = 7, Average Fold Error = 0.3298670451402059\n",
            "Depth = 8, Average Fold Error = 0.35643678275307866\n",
            "Depth = 9, Average Fold Error = 0.37627776932956636\n",
            "Depth = 10, Average Fold Error = 0.390665612106903\n"
          ]
        }
      ],
      "source": [
        "errors = []\n",
        "best_depth = None\n",
        "lowest_error = float('inf')\n",
        "\n",
        "for depth in depth_values:\n",
        "    fold_errors = []\n",
        "    for fold in range(5):\n",
        "        X_train, y_train, X_val, y_val = load_fold_data(fold)\n",
        "\n",
        "        # Khởi tạo mô hình cây quyết định với độ sâu hiện tại\n",
        "        tree = DecisionTree(max_depth=depth)\n",
        "        tree.fit(X_train, y_train)\n",
        "\n",
        "        # Dự đoán trên tập validation\n",
        "        y_pred = tree.predict(X_val)\n",
        "\n",
        "        # Tính lỗi MSE\n",
        "        mse = np.mean((y_val - y_pred) ** 2)\n",
        "        fold_errors.append(mse)\n",
        "\n",
        "    # Trung bình lỗi MSE trên tất cả các fold\n",
        "    avg_error = np.mean(fold_errors)\n",
        "    errors.append(avg_error)\n",
        "\n",
        "    # Tìm độ sâu với lỗi thấp nhất\n",
        "    if avg_error < lowest_error:\n",
        "        lowest_error = avg_error\n",
        "        best_depth = depth\n",
        "\n",
        "    print(f\"Depth = {depth}, Average Fold Error = {avg_error}\")\n"
      ]
    },
    {
      "cell_type": "markdown",
      "metadata": {
        "id": "yu7McoiCHqDu"
      },
      "source": [
        "*Giải thích*\n",
        "\n",
        "\n",
        "*  Tạo danh sách lỗi errors và các biến lưu trữ: errors là danh sách để lưu lại lỗi MSE tương ứng với từng giá trị độ sâu. best_depth lưu giá trị độ sâu có lỗi nhỏ nhất, và lowest_error khởi tạo với giá trị lớn nhất để dễ so sánh.\n",
        "\n",
        "*   Vòng lặp qua các giá trị độ sâu: Tại mỗi bước, mô hình cây quyết định được khởi tạo với độ sâu khác nhau từ 1 đến 10.\n",
        "\n",
        "*   Cross-validation: Mỗi giá trị độ sâu sẽ được đánh giá thông qua K-fold cross-validation (k = 5). Dữ liệu được chia thành 5 phần, và tại mỗi vòng lặp, mô hình huấn luyện trên 4 phần và kiểm tra trên phần còn lại.\n",
        "*   Huấn luyện và tính toán lỗi:Với mỗi fold, bạn huấn luyện cây quyết định trên tập huấn luyện (X_train, y_train), sau đó dự đoán trên tập kiểm tra (X_val). Mean Squared Error (MSE): Đây là thước đo được dùng để tính độ lệch giữa giá trị dự đoán (y_pred) và giá trị thật (y_val).\n",
        "\n",
        "\n",
        "*   Tìm giá trị độ sâu tốt nhất: Tại mỗi độ sâu, bạn tính toán lỗi trung bình trên tất cả các fold và lưu lại giá trị lỗi trung bình đó trong errors.\n",
        "Nếu lỗi trung bình của độ sâu hiện tại nhỏ hơn lỗi nhỏ nhất trước đó, cập nhật giá trị của best_depth và lowest_error.\n",
        "\n",
        "\n",
        "\n",
        "\n"
      ]
    },
    {
      "cell_type": "markdown",
      "metadata": {
        "id": "YAXE-sZeIuc-"
      },
      "source": [
        "# 7.In ra độ sâu tối ưu"
      ]
    },
    {
      "cell_type": "code",
      "execution_count": 22,
      "metadata": {
        "id": "oN1kJvVzIzr8"
      },
      "outputs": [
        {
          "name": "stdout",
          "output_type": "stream",
          "text": [
            "Độ sâu tối ưu (thủ công): 7\n"
          ]
        }
      ],
      "source": [
        "print(f'Độ sâu tối ưu (thủ công): {best_depth}')\n"
      ]
    },
    {
      "cell_type": "markdown",
      "metadata": {
        "id": "iUiE-WzLI3Ac"
      },
      "source": [
        "*Giải thích *\n",
        "\n",
        "\n",
        "*  Sau khi kiểm tra qua tất cả các độ sâu, bạn in ra độ sâu có lỗi thấp nhất (độ sâu tốt nhất) dựa trên quá trình huấn luyện.\n",
        "\n",
        "\n"
      ]
    },
    {
      "cell_type": "markdown",
      "metadata": {
        "id": "1l15pTmXI9_o"
      },
      "source": [
        "# 8.Dự đoán trên tập kiểm tra (test set)"
      ]
    },
    {
      "cell_type": "code",
      "execution_count": 23,
      "metadata": {
        "id": "ne7WwCXzJCFc"
      },
      "outputs": [],
      "source": [
        "X_test, y_test = load_data_from('D:/NgoChucNgoc64KTPM2/HocMayG3/Student-Final-Grade-ML/data/split/test_data.csv')\n",
        "tree = DecisionTree(max_depth=best_depth)\n",
        "tree.fit(X_train, y_train)\n",
        "y_pred = tree.predict(X_test)\n"
      ]
    },
    {
      "cell_type": "markdown",
      "metadata": {
        "id": "dvaUxyHSJEiU"
      },
      "source": [
        "*Giải thích*\n",
        "\n",
        "\n",
        "*   Dữ liệu kiểm tra: Tập kiểm tra được nạp từ file test_data.csv thông qua hàm load_data_from trong cart_utils.py. Dữ liệu này sẽ được sử dụng để đánh giá mô hình trên tập dữ liệu chưa từng được nhìn thấy trong quá trình huấn luyện.\n",
        "*   Huấn luyện với độ sâu tối ưu: Sau khi đã xác định độ sâu tốt nhất, bạn huấn luyện lại cây quyết định trên toàn bộ tập huấn luyện (X_train, y_train) và dự đoán trên tập kiểm tra (X_test).\n",
        "\n"
      ]
    },
    {
      "cell_type": "markdown",
      "metadata": {
        "id": "pdbWppgTJQLH"
      },
      "source": [
        "# 9.Tính lỗi trên tập kiểm tra và vẽ biểu đồ lỗi"
      ]
    },
    {
      "cell_type": "code",
      "execution_count": 24,
      "metadata": {
        "id": "cCx82hHtJTcH"
      },
      "outputs": [
        {
          "name": "stdout",
          "output_type": "stream",
          "text": [
            "Lỗi trung bình trên tập test (thủ công): 3.6164119641352857\n"
          ]
        },
        {
          "data": {
            "image/png": "[encoded data removed]",
            "text/plain": [
              "<Figure size 640x480 with 1 Axes>"
            ]
          },
          "metadata": {},
          "output_type": "display_data"
        }
      ],
      "source": [
        "mse_test = np.mean((y_test - y_pred) ** 2)\n",
        "print(f'Lỗi trung bình trên tập test (thủ công): {mse_test}')\n",
        "plot_errors(depth_values, errors)\n"
      ]
    },
    {
      "cell_type": "markdown",
      "metadata": {
        "id": "CRKJeJ9YJWcr"
      },
      "source": [
        "*Giải thích*\n",
        "\n",
        "*   Tính lỗi MSE trên tập kiểm tra: Mô hình dự đoán trên tập kiểm tra (X_test), sau đó bạn tính toán lỗi MSE giữa giá trị dự đoán và giá trị thực của tập kiểm tra.\n",
        "*   Vẽ biểu đồ lỗi: Hàm plot.plot_errors được gọi để vẽ biểu đồ thể hiện lỗi MSE thay đổi theo từng độ sâu của cây quyết định. Điều này giúp bạn trực quan hóa quá trình tối ưu hóa độ sâu.\n",
        "\n",
        "\n",
        "\n"
      ]
    }
  ],
  "metadata": {
    "colab": {
      "provenance": []
    },
    "kernelspec": {
      "display_name": "Python 3",
      "name": "python3"
    },
    "language_info": {
      "name": "python"
    }
  },
  "nbformat": 4,
  "nbformat_minor": 0
}
