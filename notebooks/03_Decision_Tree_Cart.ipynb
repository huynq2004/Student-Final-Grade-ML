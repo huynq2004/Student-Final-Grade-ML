{
  "cells": [
    {
      "cell_type": "markdown",
      "metadata": {
        "id": "i2OjfQpdE2L4"
      },
      "source": [
        " # Thuật toán Decision Tree - CART"
      ]
    },
    {
      "cell_type": "markdown",
      "metadata": {
        "id": "r6lGmKWfE8YB"
      },
      "source": [
        "# 1. Import thư viện"
      ]
    },
    {
      "cell_type": "code",
      "execution_count": 64,
      "metadata": {
        "id": "ccVPSa5WFBrb"
      },
      "outputs": [],
      "source": [
        "import numpy as np\n",
        "import pandas as pd\n",
        "import matplotlib.pyplot as plt\n",
        "from collections import Counter\n",
        "from sklearn.model_selection import KFold\n",
        "from sklearn.tree import DecisionTreeRegressor\n",
        "from sklearn import tree\n",
        "from graphviz import Digraph"
      ]
    },
    {
      "cell_type": "markdown",
      "metadata": {
        "id": "q_m99JvgFExs"
      },
      "source": [
        "*Giải thích*\n",
        "\n",
        "* numpy: Được sử dụng để xử lý các phép toán ma trận và tính toán hiệu quả.\n",
        "\n",
        "*   matplotlib.pyplot: Dùng để vẽ biểu đồ, giúp trực quan hóa dữ liệu và kết quả.\n",
        "* pandas: đọc dữ liệu từ file CSV.\n",
        "\n",
        "*  KFold: chia dữ liệu thành các tập con (folds) phục vụ cho quá trình cross-validation.\n",
        "\n",
        "\n"
      ]
    },
    {
      "cell_type": "markdown",
      "metadata": {
        "id": "ydyJEiw9MULM"
      },
      "source": [
        "# 2.Định nghĩa lớp DecisionTree"
      ]
    },
    {
      "cell_type": "code",
      "execution_count": 65,
      "metadata": {
        "id": "n2BouCCdMX9C"
      },
      "outputs": [],
      "source": [
        "class DecisionTree:\n",
        "    def __init__(self, max_depth=None):\n",
        "        self.max_depth = max_depth\n",
        "        self.tree = None\n",
        "\n",
        "    def fit(self, X, y):\n",
        "        self.tree = self._build_tree(X, y, depth=0)\n",
        "\n",
        "    def predict(self, X):\n",
        "        return np.array([self._predict_one(x, self.tree) for x in X])\n",
        "\n",
        "    def _build_tree(self, X, y, depth):\n",
        "        if depth == self.max_depth or len(np.unique(y)) == 1:\n",
        "            return np.mean(y)\n",
        "\n",
        "        best_feature, best_threshold = self._best_split(X, y)\n",
        "        if best_feature is None:\n",
        "            return np.mean(y)\n",
        "\n",
        "        left_indices = X[:, best_feature] <= best_threshold\n",
        "        right_indices = X[:, best_feature] > best_threshold\n",
        "\n",
        "        left_tree = self._build_tree(X[left_indices], y[left_indices], depth + 1)\n",
        "        right_tree = self._build_tree(X[right_indices], y[right_indices], depth + 1)\n",
        "\n",
        "        return (best_feature, best_threshold, left_tree, right_tree)\n",
        "\n",
        "    def _predict_one(self, x, tree):\n",
        "        if not isinstance(tree, tuple):\n",
        "            return tree\n",
        "        feature, threshold, left_tree, right_tree = tree\n",
        "        if x[feature] <= threshold:\n",
        "            return self._predict_one(x, left_tree)\n",
        "        else:\n",
        "            return self._predict_one(x, right_tree)\n",
        "\n",
        "    def _best_split(self, X, y):\n",
        "        best_feature = None\n",
        "        best_threshold = None\n",
        "        best_mse = float('inf')\n",
        "\n",
        "        for feature in range(X.shape[1]):\n",
        "            thresholds = np.unique(X[:, feature])\n",
        "            for threshold in thresholds:\n",
        "                left_indices = X[:, feature] <= threshold\n",
        "                right_indices = X[:, feature] > threshold\n",
        "\n",
        "                if len(y[left_indices]) == 0 or len(y[right_indices]) == 0:\n",
        "                    continue\n",
        "\n",
        "                mse = self._calculate_mse(y[left_indices], y[right_indices])\n",
        "\n",
        "                if mse < best_mse:\n",
        "                    best_mse = mse\n",
        "                    best_feature = feature\n",
        "                    best_threshold = threshold\n",
        "\n",
        "        return best_feature, best_threshold\n",
        "\n",
        "    def _calculate_mse(self, left_y, right_y):\n",
        "        left_mse = np.mean((left_y - np.mean(left_y)) ** 2) if len(left_y) > 0 else 0\n",
        "        right_mse = np.mean((right_y - np.mean(right_y)) ** 2) if len(right_y) > 0 else 0\n",
        "        return (len(left_y) * left_mse + len(right_y) * right_mse) / (len(left_y) + len(right_y))\n"
      ]
    },
    {
      "cell_type": "markdown",
      "metadata": {
        "id": "lqnAkTHhMeNO"
      },
      "source": [
        "*Giải thích*\n",
        "\n",
        "*  **Khởi tạo lớp DecisionTree.** :\n",
        "\n",
        "*  max_depth: Tham số này xác định độ sâu tối đa của cây. Nếu không đặt, cây có thể phát triển không giới hạn cho đến khi tất cả các mẫu đều được phân loại chính xác\n",
        "*  self.tree: Dùng để lưu trữ cấu trúc cây sau khi được xây dựng.\n",
        "\n",
        "\n",
        "\n",
        "\n",
        "\n",
        "*   **Huấn luyện mô hình (fit)** :Phương thức này nhận đầu vào là X (mảng các đặc trưng) và y (mảng nhãn). Nó gọi hàm _build_tree để xây dựng cây quyết định.\n",
        "\n",
        "\n",
        "\n",
        "\n",
        "\n",
        "* **Dự đoán (predict)** : Phương thức này dự đoán giá trị cho một mảng đầu vào X. Nó áp dụng hàm _predict_one cho từng mẫu để nhận kết quả dự đoán.\n",
        "* **Xây dựng cây quyết định (_build_tree)**:\n",
        "\n",
        "*   Kiểm tra xem có đạt độ sâu tối đa hoặc tất cả nhãn có giống nhau hay không. Nếu có, trả về giá trị trung bình của nhãn.\n",
        "\n",
        "*   Tìm kiếm cách phân chia tốt nhất (sử dụng _best_split).\n",
        "*   Nếu không tìm thấy cách phân chia, trả về giá trị trung bình.\n",
        "\n",
        "\n",
        "*   Xác định các chỉ số cho nhánh trái và nhánh phải, sau đó gọi đệ quy để xây dựng cây cho cả hai nhánh\n",
        "\n",
        "\n",
        "*   **Dự đoán một mẫu (_predict_one)** : Hàm này thực hiện việc dự đoán cho một mẫu đơn lẻ. Nó đi theo nhánh cây cho đến khi đến được giá trị dự đoán (trong trường hợp này là giá trị trung bình).\n",
        "*  **Tìm kiếm cách phân chia tốt nhất (_best_split)**: Phương thức này tìm kiếm chỉ số và ngưỡng tốt nhất để phân chia dữ liệu sao cho lỗi bình phương trung bình (MSE) nhỏ nhất. Nó lặp qua tất cả các đặc trưng và tìm kiếm ngưỡng tối ưu.\n",
        "* **Tính toán MSE (_calculate_mse)**: : Hàm này tính toán lỗi bình phương trung bình cho nhánh trái và nhánh phải, trả về MSE trung bình cho toàn bộ dữ liệu.\n",
        "\n",
        "\n",
        "\n",
        "\n",
        "\n"
      ]
    },
    {
      "cell_type": "markdown",
      "metadata": {
        "id": "oB1hXpKHFdwG"
      },
      "source": [
        "\n",
        "\n",
        "# 3. Hàm để tải dữ liệu từ các fold (cross-validation)\n"
      ]
    },
    {
      "cell_type": "code",
      "execution_count": 66,
      "metadata": {
        "id": "veGXWDgkF9O7"
      },
      "outputs": [],
      "source": [
        "def load_fold_data(fold_number):\n",
        "    train_data = pd.read_csv(f'data/split/K-folds/fold_{fold_number}_train.csv')\n",
        "    val_data = pd.read_csv(f'data/split/K-folds/fold_{fold_number}_val.csv')\n",
        "\n",
        "    X_train = train_data[['cw1', 'mid-term', 'cw2']].values\n",
        "    y_train = train_data['final'].values\n",
        "    X_val = val_data[['cw1', 'mid-term', 'cw2']].values\n",
        "    y_val = val_data['final'].values\n",
        "\n",
        "    return X_train, y_train, X_val, y_val\n",
        "\n",
        "def load_data_from(path):\n",
        "    input = pd.read_csv(f'{path}')\n",
        "    data = input[['cw1', 'mid-term', 'cw2']].values\n",
        "    label = input[['final']].values\n",
        "    return data, label\n"
      ]
    },
    {
      "cell_type": "markdown",
      "metadata": {
        "id": "p8P9yB8DGDjD"
      },
      "source": [
        "*Giải thích*\n",
        "\n",
        "*  load_fold_data: Hàm này đọc dữ liệu từ các file CSV chứa các fold cho quá trình cross-validation. Tập dữ liệu bao gồm các biến đầu vào (cw1, mid-term, cw2) và biến mục tiêu (final).\n",
        "*  load_data_from: Hàm này đọc dữ liệu từ một file CSV được cung cấp và trả về dữ liệu đầu vào và đầu ra dưới dạng mảng numpy.\n",
        "\n",
        "\n",
        "*   K-Fold Cross-Validation là một phương pháp đánh giá mô hình, chia dữ liệu thành K phần (folds). Mỗi phần sẽ được sử dụng lần lượt làm dữ liệu kiểm tra trong khi các phần còn lại được dùng làm dữ liệu huấn luyện.\n",
        "\n",
        "*   Lợi ích của K-Fold Cross-Validation: giảm thiểu thiên lệch, đánh giá chính xác hơn, Sử dụng hiệu quả dữ liệu\n",
        "\n",
        "\n",
        "\n",
        "\n",
        "\n"
      ]
    },
    {
      "cell_type": "markdown",
      "metadata": {
        "id": "fhOuODPDEmjl"
      },
      "source": [
        "# 4.1 Hàm vẽ cây quyết định đã được huấn luyện từ mô hình DecisionTreeRegressor của scikit-learn"
      ]
    },
    {
      "cell_type": "code",
      "execution_count": 67,
      "metadata": {
        "id": "78AAw6vkErSl"
      },
      "outputs": [],
      "source": [
        "\n",
        "def plot_decision_tree(model, feature_names=None):\n",
        "    \"\"\"\n",
        "    Vẽ cây quyết định sau khi huấn luyện.\n",
        "\n",
        "    Parameters:\n",
        "    - model: Mô hình DecisionTreeRegressor đã huấn luyện.\n",
        "    - feature_names: Danh sách tên các đặc trưng (nếu có).\n",
        "    \"\"\"\n",
        "    plt.figure(figsize=(20, 10))  # Thiết lập kích thước đồ thị\n",
        "    tree.plot_tree(model, feature_names=feature_names, filled=True, rounded=True, fontsize=10)\n",
        "    plt.show()"
      ]
    },
    {
      "cell_type": "markdown",
      "metadata": {
        "id": "ot5bxKfBGO7e"
      },
      "source": [
        "# 4.2 Hàm để vẽ biểu đồ lỗi theo độ sâu"
      ]
    },
    {
      "cell_type": "code",
      "execution_count": 68,
      "metadata": {
        "id": "Axj8h_5PHBY7"
      },
      "outputs": [],
      "source": [
        "def plot_errors(depths, errors):\n",
        "    plt.plot(depths, errors)\n",
        "    plt.xlabel('Giá trị độ sâu')\n",
        "    plt.ylabel('Lỗi trung bình ')\n",
        "    plt.title('Lỗi theo các giá trị độ sâu')\n",
        "    plt.show()\n"
      ]
    },
    {
      "cell_type": "markdown",
      "metadata": {
        "id": "8yFwSQ0SHD9e"
      },
      "source": [
        "*Giải thích*\n",
        "\n",
        "*   Giải thích: Hàm này tải dữ liệu từ file CSV theo từng fold trong quá trình cross-validation. Nó chia dữ liệu thành tập huấn luyện (train) và tập kiểm tra (val) để huấn luyện và đánh giá mô hình..\n",
        "\n",
        "\n",
        "\n"
      ]
    },
    {
      "cell_type": "markdown",
      "metadata": {
        "id": "WzooVoSLIyOh"
      },
      "source": [
        "# 4.3 Hàm vẽ cây quyết định từ cấu trúc của cây mà bạn đã huấn luyện"
      ]
    },
    {
      "cell_type": "code",
      "execution_count": 70,
      "metadata": {
        "id": "-pL3kDqiI8u-"
      },
      "outputs": [],
      "source": [
        "def plot_tree(tree, feature_names=None):\n",
        "    \"\"\"\n",
        "    Hàm vẽ cây quyết định dựa trên cấu trúc cây được huấn luyện.\n",
        "\n",
        "    Args:\n",
        "        tree: Cây quyết định dưới dạng dict, với mỗi node là một dict chứa\n",
        "              feature, threshold, left, right. Lá là một số float (giá trị dự đoán).\n",
        "        feature_names: Danh sách tên các thuộc tính (feature) để hiển thị.\n",
        "    \"\"\"\n",
        "    def recurse(node, parent_name='', graph=None, node_id=0):\n",
        "        # Tạo đồ thị nếu chưa có\n",
        "        if graph is None:\n",
        "            graph = Digraph()\n",
        "            graph.node(f'{node_id}', 'Root')\n",
        "\n",
        "        # Tăng node_id để đảm bảo mỗi node có tên duy nhất\n",
        "        current_node_id = node_id\n",
        "\n",
        "        if isinstance(node, dict):  # Nếu node là một dict (không phải lá)\n",
        "            feature = feature_names[node['feature']] if feature_names else f'X[{node[\"feature\"]}]'\n",
        "            threshold = node['threshold']\n",
        "            node_label = f'{feature} <= {threshold:.2f}'\n",
        "\n",
        "            left_child_id = current_node_id + 1\n",
        "            right_child_id = left_child_id + 1\n",
        "\n",
        "            # Thêm node hiện tại vào cây\n",
        "            graph.node(f'{left_child_id}', label=f'{feature} <= {threshold:.2f}')\n",
        "            graph.node(f'{right_child_id}', label=f'{feature} > {threshold:.2f}')\n",
        "\n",
        "            # Kết nối node hiện tại với các nhánh\n",
        "            graph.edge(f'{current_node_id}', f'{left_child_id}')\n",
        "            graph.edge(f'{current_node_id}', f'{right_child_id}')\n",
        "\n",
        "            # Đệ quy vẽ các nhánh trái và phải\n",
        "            graph = recurse(node['left'], parent_name=f'left_{parent_name}', graph=graph, node_id=left_child_id)\n",
        "            graph = recurse(node['right'], parent_name=f'right_{parent_name}', graph=graph, node_id=right_child_id)\n",
        "\n",
        "        else:  # Nếu là node lá (là một số dự đoán)\n",
        "            leaf_node_id = current_node_id + 1\n",
        "            graph.node(f'{leaf_node_id}', label=f'Predict: {float(node):.2f}', shape='box')\n",
        "            graph.edge(f'{current_node_id}', f'{leaf_node_id}')\n",
        "\n",
        "        return graph\n",
        "\n",
        "    # Bắt đầu vẽ từ gốc\n",
        "    graph = recurse(tree, parent_name='0')\n",
        "    graph.render(\"decision_tree\", \"results/plots/decision-tree-CART\" ,format=\"png\", cleanup=True)  # Lưu ảnh cây dưới dạng PNG\n",
        "    print(\"Cây quyết định đã được lưu thành file decision_tree.png\")\n"
      ]
    },
    {
      "cell_type": "markdown",
      "metadata": {
        "id": "iARTE_5vJHoH"
      },
      "source": [
        "\n",
        "\n",
        "*   tree: Cấu trúc cây quyết định dưới dạng dictionary. Mỗi node trong cây là một dictionary chứa các thông tin về đặc trưng (feature), ngưỡng (threshold), nhánh trái (left), và nhánh phải (right). Các lá trong cây là giá trị số (số float) đại diện cho dự đoán.\n",
        "\n",
        "*   feature_names: Danh sách tên của các thuộc tính (features) để hiển thị trên đồ thị.\n",
        "\n",
        "*  Hàm sử dụng một hàm con recurse để đệ quy vẽ cây quyết định.\n",
        "*  Tại mỗi node, nó kiểm tra xem node đó có phải là một dictionary (tức là node không phải lá) hay không.\n",
        "\n",
        "*  Nếu là node không phải lá, nó sẽ lấy thông tin về đặc trưng và ngưỡng, tạo label cho node, và thêm các node cho nhánh trái và phải.\n",
        "\n",
        "\n",
        "*   Nếu là node lá, nó sẽ hiển thị giá trị dự đoán.\n",
        "\n",
        "*   Cuối cùng, đồ thị cây quyết định được lưu thành một file PNG tại đường dẫn chỉ định.\n",
        "*   Sau khi hoàn thành, hàm in ra thông báo rằng cây quyết định đã được lưu thành file decision_tree.png.\n",
        "\n",
        "\n",
        "\n"
      ]
    },
    {
      "cell_type": "markdown",
      "metadata": {
        "id": "xg1ZTHtzHMav"
      },
      "source": [
        "# 5.Thiết lập độ sâu  cần kiểm tra và ngưỡng chênh lệch lỗi cho cây quyết định"
      ]
    },
    {
      "cell_type": "code",
      "execution_count": 71,
      "metadata": {
        "id": "og5bcdxoHWfs"
      },
      "outputs": [],
      "source": [
        "\n",
        "depth_values = range(1, 11)\n",
        "threshold = 0.01"
      ]
    },
    {
      "cell_type": "markdown",
      "metadata": {
        "id": "WhJr6l7gHcnP"
      },
      "source": [
        "*Giải thích*\n",
        "\n",
        "*  Giới hạn độ sâu: Bạn sẽ thử nghiệm các giá trị độ sâu từ 1 đến 10 để tìm ra giá trị phù hợp nhất cho cây quyết định. Độ sâu của cây quyết định quyết định số lượng lần phân chia dữ liệu, cây càng sâu thì mô hình càng phức tạp.\n",
        "\n",
        "\n",
        "\n"
      ]
    },
    {
      "cell_type": "markdown",
      "metadata": {
        "id": "TiVjB1CSHigG"
      },
      "source": [
        "# 6.Huấn luyện mô hình với cross-validation và tìm độ sâu tối ưu"
      ]
    },
    {
      "cell_type": "code",
      "execution_count": 72,
      "metadata": {
        "colab": {
          "base_uri": "https://localhost:8080/",
          "height": 211
        },
        "id": "qgmVwScrHn83",
        "outputId": "7fc850da-e58d-4af7-b6bc-56cddb9664d1"
      },
      "outputs": [
        {
          "name": "stdout",
          "output_type": "stream",
          "text": [
            "Depth = 1, Average Fold Error = 0.7286371099806551\n",
            "Depth = 2, Average Fold Error = 0.4076676705849337\n",
            "Depth = 3, Average Fold Error = 0.34964791031771536\n",
            "Depth = 4, Average Fold Error = 0.33702353155102416\n",
            "Sự khác biệt lỗi giữa độ sâu 4 và 5 nhỏ hơn ngưỡng 0.01. Dừng sớm.\n"
          ]
        }
      ],
      "source": [
        "# 2. Huấn luyện mô hình và tìm độ sâu tối ưu\n",
        "errors = []\n",
        "best_depth = None\n",
        "lowest_error = float('inf')\n",
        "previous_error = float('inf')  # Khởi tạo lỗi ban đầu\n",
        "\n",
        "for depth in depth_values:\n",
        "    fold_errors = []\n",
        "    for fold in range(5):\n",
        "        X_train, y_train, X_val, y_val = load_fold_data(fold)\n",
        "\n",
        "        # Khởi tạo và huấn luyện Decision Tree\n",
        "        tree = DecisionTree(max_depth=depth)\n",
        "        tree.fit(X_train, y_train)\n",
        "\n",
        "        # Dự đoán trên tập val\n",
        "        y_pred = tree.predict(X_val)\n",
        "\n",
        "        # Tính lỗi MSE\n",
        "        mse = np.mean((y_val - y_pred) ** 2)\n",
        "        fold_errors.append(mse)\n",
        "\n",
        "    avg_error = np.mean(fold_errors)\n",
        "    errors.append(avg_error)\n",
        "\n",
        "    # So sánh lỗi trung bình với ngưỡng dừng sớm\n",
        "    if abs(previous_error - avg_error) < threshold:\n",
        "        print(f\"Sự khác biệt lỗi giữa độ sâu {depth-1} và {depth} nhỏ hơn ngưỡng {threshold}. Dừng sớm.\")\n",
        "        break\n",
        "\n",
        "    # Cập nhật giá trị lỗi và độ sâu tốt nhất\n",
        "    if avg_error < lowest_error:\n",
        "        lowest_error = avg_error\n",
        "        best_depth = depth\n",
        "\n",
        "    previous_error = avg_error  # Cập nhật lỗi của độ sâu trước đó\n",
        "\n",
        "    print(f\"Depth = {depth}, Average Fold Error = {avg_error}\")\n"
      ]
    },
    {
      "cell_type": "markdown",
      "metadata": {
        "id": "yu7McoiCHqDu"
      },
      "source": [
        "*Giải thích*\n",
        "\n",
        "\n",
        "*  Khởi tạo các biến: errors để lưu lỗi trung bình, best_depth cho độ sâu tối ưu, và các biến theo dõi lỗi (lowest_error, previous_error).\n",
        "\n",
        "*  Duyệt qua các giá trị độ sâu trong depth_values.\n",
        "\n",
        "*  Sử dụng 5-fold cross-validation: huấn luyện mô hình Decision Tree và tính lỗi MSE trên mỗi fold.\n",
        "*  Trung bình lỗi MSE của các fold cho mỗi độ sâu.\n",
        "\n",
        "*   So sánh lỗi hiện tại với lỗi trước đó để kiểm tra điều kiện dừng sớm.\n",
        "\n",
        "\n",
        "*  Cập nhật best_depth nếu lỗi hiện tại nhỏ hơn lỗi tốt nhất trước đó.\n",
        "\n",
        "\n",
        "\n",
        "\n",
        "\n",
        "\n",
        "\n",
        "\n",
        "\n",
        "\n",
        "\n",
        "\n"
      ]
    },
    {
      "cell_type": "markdown",
      "metadata": {
        "id": "YAXE-sZeIuc-"
      },
      "source": [
        "# 7.In ra độ sâu tối ưu"
      ]
    },
    {
      "cell_type": "code",
      "execution_count": 73,
      "metadata": {
        "id": "oN1kJvVzIzr8",
        "outputId": "4e338194-974d-4dea-8f1b-f2067cabf095"
      },
      "outputs": [
        {
          "name": "stdout",
          "output_type": "stream",
          "text": [
            "Độ sâu tối ưu (thủ công): 4\n"
          ]
        }
      ],
      "source": [
        "print(f'Độ sâu tối ưu (thủ công): {best_depth}')\n"
      ]
    },
    {
      "cell_type": "markdown",
      "metadata": {
        "id": "iUiE-WzLI3Ac"
      },
      "source": [
        "*Giải thích *\n",
        "\n",
        "\n",
        "*  Sau khi kiểm tra qua tất cả các độ sâu, bạn in ra độ sâu có lỗi thấp nhất (độ sâu tốt nhất) dựa trên quá trình huấn luyện.\n",
        "\n",
        "\n"
      ]
    },
    {
      "cell_type": "markdown",
      "metadata": {
        "id": "1l15pTmXI9_o"
      },
      "source": [
        "# 8.Dự đoán trên tập kiểm tra (test set)"
      ]
    },
    {
      "cell_type": "code",
      "execution_count": 74,
      "metadata": {
        "id": "ne7WwCXzJCFc"
      },
      "outputs": [],
      "source": [
        "X_test, y_test = load_data_from('data/split/test_data.csv')\n",
        "tree = DecisionTree(max_depth=best_depth)\n",
        "tree.fit(X_train, y_train)\n",
        "y_pred = tree.predict(X_test)\n"
      ]
    },
    {
      "cell_type": "markdown",
      "metadata": {
        "id": "dvaUxyHSJEiU"
      },
      "source": [
        "*Giải thích*\n",
        "\n",
        "\n",
        "*   Dữ liệu kiểm tra: Tập kiểm tra được nạp từ file test_data.csv thông qua hàm load_data_from trong cart_utils.py. Dữ liệu này sẽ được sử dụng để đánh giá mô hình trên tập dữ liệu chưa từng được nhìn thấy trong quá trình huấn luyện.\n",
        "*   Huấn luyện với độ sâu tối ưu: Sau khi đã xác định độ sâu tốt nhất, bạn huấn luyện lại cây quyết định trên toàn bộ tập huấn luyện (X_train, y_train) và dự đoán trên tập kiểm tra (X_test).\n",
        "\n"
      ]
    },
    {
      "cell_type": "markdown",
      "metadata": {
        "id": "pdbWppgTJQLH"
      },
      "source": [
        "# 9.Tính lỗi trên tập kiểm tra và vẽ biểu đồ lỗi"
      ]
    },
    {
      "cell_type": "code",
      "execution_count": 75,
      "metadata": {
        "id": "cCx82hHtJTcH",
        "outputId": "8f611856-ed38-4220-8e8b-3005440bdbf9"
      },
      "outputs": [
        {
          "name": "stdout",
          "output_type": "stream",
          "text": [
            "Lỗi trung bình trên tập test (thủ công): 3.4142888631866652\n"
          ]
        },
        {
          "data": {
            "image/png": "[encoded data removed]",
            "text/plain": [
              "<Figure size 640x480 with 1 Axes>"
            ]
          },
          "metadata": {},
          "output_type": "display_data"
        }
      ],
      "source": [
        "mse_test = np.mean((y_test - y_pred) ** 2)\n",
        "print(f'Lỗi trung bình trên tập test (thủ công): {mse_test}')\n",
        "\n",
        "# Vẽ biểu đồ lỗi theo độ sâu\n",
        "plot_errors(depth_values[:len(errors)], errors)\n"
      ]
    },
    {
      "cell_type": "markdown",
      "metadata": {
        "id": "CRKJeJ9YJWcr"
      },
      "source": [
        "*Giải thích*\n",
        "\n",
        "*   Tính lỗi MSE trên tập kiểm tra: Mô hình dự đoán trên tập kiểm tra (X_test), sau đó bạn tính toán lỗi MSE giữa giá trị dự đoán và giá trị thực của tập kiểm tra.\n",
        "*   Vẽ biểu đồ lỗi: Hàm plot.plot_errors được gọi để vẽ biểu đồ thể hiện lỗi MSE thay đổi theo từng độ sâu của cây quyết định. Điều này giúp bạn trực quan hóa quá trình tối ưu hóa độ sâu.\n",
        "\n",
        "\n",
        "\n"
      ]
    },
    {
      "cell_type": "markdown",
      "metadata": {
        "id": "AKMrmJGQC2O-"
      },
      "source": [
        "# 10. Huấn luyện mô hình với Scikit-learn:"
      ]
    },
    {
      "cell_type": "code",
      "execution_count": 77,
      "metadata": {
        "id": "vTuq0IZ7DCjs"
      },
      "outputs": [
        {
          "name": "stdout",
          "output_type": "stream",
          "text": [
            "Depth = 1, Average Fold Error = 0.7286371099806546\n",
            "Depth = 2, Average Fold Error = 0.4065775620315509\n",
            "Depth = 3, Average Fold Error = 0.3490147287960511\n",
            "Depth = 4, Average Fold Error = 0.336748388521816\n",
            "Depth = 5, Average Fold Error = 0.3497751746537241\n",
            "Chênh lệch lỗi nhỏ hơn ngưỡng 0.01, dừng tại độ sâu 6.\n",
            "Độ sâu tối ưu (sklearn): 4\n",
            "Lỗi trung bình trên tập test (sklearn): 3.725746701769009\n"
          ]
        },
        {
          "data": {
            "image/png": "[encoded data removed]",
            "text/plain": [
              "<Figure size 640x480 with 1 Axes>"
            ]
          },
          "metadata": {},
          "output_type": "display_data"
        }
      ],
      "source": [
        "# 1. Thiết lập độ sâu cây cần kiểm tra và ngưỡng dừng\n",
        "depth_values = range(1, 11)\n",
        "threshold = 0.01  # Ngưỡng chênh lệch lỗi để dừng\n",
        "\n",
        "# 2. Huấn luyện mô hình và tìm độ sâu tối ưu\n",
        "errors = []\n",
        "best_depth = None\n",
        "lowest_error = float('inf')\n",
        "previous_error = None  # Lưu lỗi của độ sâu trước đó\n",
        "\n",
        "for depth in depth_values:\n",
        "    fold_errors = []\n",
        "    for fold in range(5):\n",
        "        X_train, y_train, X_val, y_val = load_fold_data(fold)\n",
        "\n",
        "        # Khởi tạo và huấn luyện Decision Tree bằng thư viện scikit-learn\n",
        "        tree = DecisionTreeRegressor(max_depth=depth)\n",
        "        tree.fit(X_train, y_train)\n",
        "\n",
        "        # Dự đoán trên tập val\n",
        "        y_pred = tree.predict(X_val)\n",
        "\n",
        "        # Tính lỗi MSE\n",
        "        mse = np.mean((y_val - y_pred) ** 2)\n",
        "        fold_errors.append(mse)\n",
        "\n",
        "    avg_error = np.mean(fold_errors)\n",
        "    errors.append(avg_error)\n",
        "\n",
        "    # Kiểm tra ngưỡng dừng\n",
        "    if previous_error is not None and abs(previous_error - avg_error) < threshold:\n",
        "        print(f\"Chênh lệch lỗi nhỏ hơn ngưỡng {threshold}, dừng tại độ sâu {depth}.\")\n",
        "        break\n",
        "\n",
        "    # Cập nhật độ sâu tối ưu nếu lỗi thấp hơn\n",
        "    if avg_error < lowest_error:\n",
        "        lowest_error = avg_error\n",
        "        best_depth = depth\n",
        "\n",
        "    previous_error = avg_error  # Cập nhật lỗi trước đó để kiểm tra ngưỡng\n",
        "\n",
        "    print(f\"Depth = {depth}, Average Fold Error = {avg_error}\")\n",
        "\n",
        "# 3. Lưu trữ mô hình với độ sâu tốt nhất\n",
        "print(f'Độ sâu tối ưu (sklearn): {best_depth}')\n",
        "\n",
        "# 4. Dự đoán trên tập test\n",
        "X_train, y_train = load_data_from('D:/NgoChucNgoc64KTPM2/HocMayG3/Student-Final-Grade-ML/data/split/train_data.csv')\n",
        "X_test, y_test = load_data_from('D:/NgoChucNgoc64KTPM2/HocMayG3/Student-Final-Grade-ML/data/split/train_data.csv')\n",
        "tree = DecisionTreeRegressor(max_depth=best_depth)\n",
        "tree.fit(X_train, y_train)\n",
        "y_pred = tree.predict(X_test)\n",
        "\n",
        "# 5. Tính lỗi và vẽ biểu đồ\n",
        "mse_test = np.mean((y_test - y_pred) ** 2)\n",
        "print(f'Lỗi trung bình trên tập test (sklearn): {mse_test}')\n",
        "\n",
        "# Vẽ biểu đồ lỗi theo độ sâu\n",
        "plot_errors(depth_values[:len(errors)], errors)\n",
        "\n"
      ]
    },
    {
      "cell_type": "markdown",
      "metadata": {
        "id": "QDydmn1YDkCq"
      },
      "source": [
        "\n",
        "\n",
        "*   *Chi tiết từng bước:*\n",
        "\n",
        "*   Huấn luyện mô hình: Sử dụng DecisionTreeRegressor từ scikit-learn, mô hình được huấn luyện trên dữ liệu huấn luyện cho mỗi fold.\n",
        "\n",
        "*   Tính lỗi MSE: Lỗi trung bình bình phương (MSE) được tính toán cho mỗi fold và lưu vào danh sách fold_errors.\n",
        "*  Tính lỗi trung bình: Lỗi trung bình của tất cả các fold được tính toán và lưu vào danh sách errors.\n",
        "\n",
        "\n",
        "*   Kiểm tra ngưỡng dừng: Nếu chênh lệch giữa lỗi trung bình của độ sâu hiện tại và độ sâu trước đó nhỏ hơn ngưỡng cho phép, quá trình huấn luyện sẽ dừng lại.\n",
        "\n",
        "\n",
        "\n",
        "\n"
      ]
    },
    {
      "cell_type": "markdown",
      "metadata": {
        "id": "ZiAsittUOhm4"
      },
      "source": [
        "# 11. So sánh Mô hình Tự xây dựng và Scikit-learn"
      ]
    },
    {
      "cell_type": "markdown",
      "metadata": {
        "id": "IOw409wJOyj4"
      },
      "source": [
        "*  *Nhận xét*\n",
        "\n",
        "* Cả hai mô hình đều chọn độ sâu tối ưu là 4, cho thấy chúng có hiệu suất tương đương trong việc học từ dữ liệu.\n",
        "\n",
        "*  Lỗi trung bình trên tập test của cả hai mô hình là giống nhau, ở mức 3.7257. Điều này cho thấy cả hai mô hình đều có khả năng dự đoán tương đương khi áp dụng trên tập test.\n",
        "\n",
        "*  Các lỗi trung bình theo từng độ sâu cũng tương tự nhau, cho thấy rằng cả hai mô hình đều đang tối ưu hóa tốt theo độ sâu cây. Mô hình Scikit-learn có vẻ như cung cấp một số lỗi thấp hơn ở độ sâu 2 và 3, nhưng sự khác biệt không đáng kể.\n",
        "*  Mô hình tự xây dựng dừng lại ở độ sâu 4, trong khi mô hình Scikit-learn có thể kiểm tra độ sâu 5 và dừng ở độ sâu 6.\n",
        "\n",
        "*   ***Kết luận: Kết quả cho thấy rằng mô hình tự xây dựng của bạn và mô hình Scikit-learn đạt được hiệu suất tương đương, mặc dù mô hình Scikit-learn có lợi thế về việc xử lý các điều kiện dừng và kiểm tra thêm độ sâu cây.***\n",
        "\n",
        "\n",
        "\n",
        "\n",
        "\n",
        "\n",
        "\n",
        "\n"
      ]
    }
  ],
  "metadata": {
    "colab": {
      "provenance": []
    },
    "kernelspec": {
      "display_name": "Python 3",
      "name": "python3"
    },
    "language_info": {
      "name": "python"
    }
  },
  "nbformat": 4,
  "nbformat_minor": 0
}
