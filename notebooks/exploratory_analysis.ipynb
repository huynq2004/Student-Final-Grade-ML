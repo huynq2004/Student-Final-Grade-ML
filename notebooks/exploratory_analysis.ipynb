{
  "nbformat": 4,
  "nbformat_minor": 0,
  "metadata": {
    "colab": {
      "provenance": [],
      "collapsed_sections": [
        "77AmUDbQTBsH",
        "V4tnhWgeT1_J",
        "AWmHqC1bT_Z7",
        "ItTe9LPOUT07",
        "BrmsKHIwU3qI",
        "keZgsb4QV9Ia"
      ],
      "toc_visible": true
    },
    "kernelspec": {
      "name": "python3",
      "display_name": "Python 3"
    },
    "language_info": {
      "name": "python"
    }
  },
  "cells": [
    {
      "cell_type": "code",
      "execution_count": null,
      "metadata": {
        "id": "L11GXhAfQytB"
      },
      "outputs": [],
      "source": []
    },
    {
      "cell_type": "markdown",
      "source": [
        "# 1. Giới thiệu\n",
        "# Ứng dụng học máy dự đoán điểm thi kết thúc môn học của sinh viên\n",
        "\n",
        "## Mục tiêu:\n",
        "Mục tiêu của dự án này là dự đoán điểm thi cuối khóa (final) dưới dạng giá trị thực khi biết điểm của các bài kiểm tra trước đó, bao gồm:\n",
        "- Course Work 1 (cw1): điểm bài kiểm tra số 1.\n",
        "- Mid-term (mid-term): điểm bài kiểm tra giữa kì.\n",
        "- Course Work 2 (cw2): điểm bài kiểm tra số 2.\n",
        "\n",
        "Các bài kiểm tra được thực hiện theo trình tự: cw1 -> mid-term -> cw2 -> final.\n",
        "\n",
        "Chúng tôi sẽ sử dụng 2 thuật toán hồi quy khác nhau để xây dựng các mô hình và so sánh hiệu suất của chúng nhằm chọn ra mô hình dự đoán tốt nhất.\n",
        "\n"
      ],
      "metadata": {
        "id": "g565ArgLR5rb"
      }
    },
    {
      "cell_type": "markdown",
      "source": [
        "#2. Đọc dữ liệu"
      ],
      "metadata": {
        "id": "77AmUDbQTBsH"
      }
    },
    {
      "cell_type": "code",
      "source": [
        "#import các thư viện\n",
        "import pandas as pd\n",
        "import matplotlib.pyplot as plt\n",
        "import seaborn as sns\n",
        "from sklearn.model_selection import train_test_split\n",
        "from sklearn.model_selection import KFold\n",
        "\n",
        "# Đọc dữ liệu từ file CSV\n",
        "data = pd.read_csv('/content/grade-records_processed.csv')\n",
        "\n",
        "# Xem một vài dòng dữ liệu\n",
        "data.head()"
      ],
      "metadata": {
        "colab": {
          "base_uri": "https://localhost:8080/",
          "height": 206
        },
        "id": "9pzq_Y8ZTERv",
        "outputId": "d027461a-95f9-41fc-c7dd-dfae9e9e3202"
      },
      "execution_count": 1,
      "outputs": [
        {
          "output_type": "execute_result",
          "data": {
            "text/plain": [
              "   cw1  mid-term  cw2  final\n",
              "0  5.9       4.9  7.8    6.6\n",
              "1  6.8       7.5  6.6    7.5\n",
              "2  6.7       9.8  4.2    4.4\n",
              "3  6.5       6.5  5.5    4.5\n",
              "4  6.5       6.5  5.4    5.4"
            ],
            "text/html": [
              "\n",
              "  <div id=\"df-d4d16eb0-52d4-404f-b5b2-aefe096832b7\" class=\"colab-df-container\">\n",
              "    <div>\n",
              "<style scoped>\n",
              "    .dataframe tbody tr th:only-of-type {\n",
              "        vertical-align: middle;\n",
              "    }\n",
              "\n",
              "    .dataframe tbody tr th {\n",
              "        vertical-align: top;\n",
              "    }\n",
              "\n",
              "    .dataframe thead th {\n",
              "        text-align: right;\n",
              "    }\n",
              "</style>\n",
              "<table border=\"1\" class=\"dataframe\">\n",
              "  <thead>\n",
              "    <tr style=\"text-align: right;\">\n",
              "      <th></th>\n",
              "      <th>cw1</th>\n",
              "      <th>mid-term</th>\n",
              "      <th>cw2</th>\n",
              "      <th>final</th>\n",
              "    </tr>\n",
              "  </thead>\n",
              "  <tbody>\n",
              "    <tr>\n",
              "      <th>0</th>\n",
              "      <td>5.9</td>\n",
              "      <td>4.9</td>\n",
              "      <td>7.8</td>\n",
              "      <td>6.6</td>\n",
              "    </tr>\n",
              "    <tr>\n",
              "      <th>1</th>\n",
              "      <td>6.8</td>\n",
              "      <td>7.5</td>\n",
              "      <td>6.6</td>\n",
              "      <td>7.5</td>\n",
              "    </tr>\n",
              "    <tr>\n",
              "      <th>2</th>\n",
              "      <td>6.7</td>\n",
              "      <td>9.8</td>\n",
              "      <td>4.2</td>\n",
              "      <td>4.4</td>\n",
              "    </tr>\n",
              "    <tr>\n",
              "      <th>3</th>\n",
              "      <td>6.5</td>\n",
              "      <td>6.5</td>\n",
              "      <td>5.5</td>\n",
              "      <td>4.5</td>\n",
              "    </tr>\n",
              "    <tr>\n",
              "      <th>4</th>\n",
              "      <td>6.5</td>\n",
              "      <td>6.5</td>\n",
              "      <td>5.4</td>\n",
              "      <td>5.4</td>\n",
              "    </tr>\n",
              "  </tbody>\n",
              "</table>\n",
              "</div>\n",
              "    <div class=\"colab-df-buttons\">\n",
              "\n",
              "  <div class=\"colab-df-container\">\n",
              "    <button class=\"colab-df-convert\" onclick=\"convertToInteractive('df-d4d16eb0-52d4-404f-b5b2-aefe096832b7')\"\n",
              "            title=\"Convert this dataframe to an interactive table.\"\n",
              "            style=\"display:none;\">\n",
              "\n",
              "  <svg xmlns=\"http://www.w3.org/2000/svg\" height=\"24px\" viewBox=\"0 -960 960 960\">\n",
              "    <path d=\"M120-120v-720h720v720H120Zm60-500h600v-160H180v160Zm220 220h160v-160H400v160Zm0 220h160v-160H400v160ZM180-400h160v-160H180v160Zm440 0h160v-160H620v160ZM180-180h160v-160H180v160Zm440 0h160v-160H620v160Z\"/>\n",
              "  </svg>\n",
              "    </button>\n",
              "\n",
              "  <style>\n",
              "    .colab-df-container {\n",
              "      display:flex;\n",
              "      gap: 12px;\n",
              "    }\n",
              "\n",
              "    .colab-df-convert {\n",
              "      background-color: #E8F0FE;\n",
              "      border: none;\n",
              "      border-radius: 50%;\n",
              "      cursor: pointer;\n",
              "      display: none;\n",
              "      fill: #1967D2;\n",
              "      height: 32px;\n",
              "      padding: 0 0 0 0;\n",
              "      width: 32px;\n",
              "    }\n",
              "\n",
              "    .colab-df-convert:hover {\n",
              "      background-color: #E2EBFA;\n",
              "      box-shadow: 0px 1px 2px rgba(60, 64, 67, 0.3), 0px 1px 3px 1px rgba(60, 64, 67, 0.15);\n",
              "      fill: #174EA6;\n",
              "    }\n",
              "\n",
              "    .colab-df-buttons div {\n",
              "      margin-bottom: 4px;\n",
              "    }\n",
              "\n",
              "    [theme=dark] .colab-df-convert {\n",
              "      background-color: #3B4455;\n",
              "      fill: #D2E3FC;\n",
              "    }\n",
              "\n",
              "    [theme=dark] .colab-df-convert:hover {\n",
              "      background-color: #434B5C;\n",
              "      box-shadow: 0px 1px 3px 1px rgba(0, 0, 0, 0.15);\n",
              "      filter: drop-shadow(0px 1px 2px rgba(0, 0, 0, 0.3));\n",
              "      fill: #FFFFFF;\n",
              "    }\n",
              "  </style>\n",
              "\n",
              "    <script>\n",
              "      const buttonEl =\n",
              "        document.querySelector('#df-d4d16eb0-52d4-404f-b5b2-aefe096832b7 button.colab-df-convert');\n",
              "      buttonEl.style.display =\n",
              "        google.colab.kernel.accessAllowed ? 'block' : 'none';\n",
              "\n",
              "      async function convertToInteractive(key) {\n",
              "        const element = document.querySelector('#df-d4d16eb0-52d4-404f-b5b2-aefe096832b7');\n",
              "        const dataTable =\n",
              "          await google.colab.kernel.invokeFunction('convertToInteractive',\n",
              "                                                    [key], {});\n",
              "        if (!dataTable) return;\n",
              "\n",
              "        const docLinkHtml = 'Like what you see? Visit the ' +\n",
              "          '<a target=\"_blank\" href=https://colab.research.google.com/notebooks/data_table.ipynb>data table notebook</a>'\n",
              "          + ' to learn more about interactive tables.';\n",
              "        element.innerHTML = '';\n",
              "        dataTable['output_type'] = 'display_data';\n",
              "        await google.colab.output.renderOutput(dataTable, element);\n",
              "        const docLink = document.createElement('div');\n",
              "        docLink.innerHTML = docLinkHtml;\n",
              "        element.appendChild(docLink);\n",
              "      }\n",
              "    </script>\n",
              "  </div>\n",
              "\n",
              "\n",
              "<div id=\"df-455268c1-a4ed-454d-879f-b05f8bafa45e\">\n",
              "  <button class=\"colab-df-quickchart\" onclick=\"quickchart('df-455268c1-a4ed-454d-879f-b05f8bafa45e')\"\n",
              "            title=\"Suggest charts\"\n",
              "            style=\"display:none;\">\n",
              "\n",
              "<svg xmlns=\"http://www.w3.org/2000/svg\" height=\"24px\"viewBox=\"0 0 24 24\"\n",
              "     width=\"24px\">\n",
              "    <g>\n",
              "        <path d=\"M19 3H5c-1.1 0-2 .9-2 2v14c0 1.1.9 2 2 2h14c1.1 0 2-.9 2-2V5c0-1.1-.9-2-2-2zM9 17H7v-7h2v7zm4 0h-2V7h2v10zm4 0h-2v-4h2v4z\"/>\n",
              "    </g>\n",
              "</svg>\n",
              "  </button>\n",
              "\n",
              "<style>\n",
              "  .colab-df-quickchart {\n",
              "      --bg-color: #E8F0FE;\n",
              "      --fill-color: #1967D2;\n",
              "      --hover-bg-color: #E2EBFA;\n",
              "      --hover-fill-color: #174EA6;\n",
              "      --disabled-fill-color: #AAA;\n",
              "      --disabled-bg-color: #DDD;\n",
              "  }\n",
              "\n",
              "  [theme=dark] .colab-df-quickchart {\n",
              "      --bg-color: #3B4455;\n",
              "      --fill-color: #D2E3FC;\n",
              "      --hover-bg-color: #434B5C;\n",
              "      --hover-fill-color: #FFFFFF;\n",
              "      --disabled-bg-color: #3B4455;\n",
              "      --disabled-fill-color: #666;\n",
              "  }\n",
              "\n",
              "  .colab-df-quickchart {\n",
              "    background-color: var(--bg-color);\n",
              "    border: none;\n",
              "    border-radius: 50%;\n",
              "    cursor: pointer;\n",
              "    display: none;\n",
              "    fill: var(--fill-color);\n",
              "    height: 32px;\n",
              "    padding: 0;\n",
              "    width: 32px;\n",
              "  }\n",
              "\n",
              "  .colab-df-quickchart:hover {\n",
              "    background-color: var(--hover-bg-color);\n",
              "    box-shadow: 0 1px 2px rgba(60, 64, 67, 0.3), 0 1px 3px 1px rgba(60, 64, 67, 0.15);\n",
              "    fill: var(--button-hover-fill-color);\n",
              "  }\n",
              "\n",
              "  .colab-df-quickchart-complete:disabled,\n",
              "  .colab-df-quickchart-complete:disabled:hover {\n",
              "    background-color: var(--disabled-bg-color);\n",
              "    fill: var(--disabled-fill-color);\n",
              "    box-shadow: none;\n",
              "  }\n",
              "\n",
              "  .colab-df-spinner {\n",
              "    border: 2px solid var(--fill-color);\n",
              "    border-color: transparent;\n",
              "    border-bottom-color: var(--fill-color);\n",
              "    animation:\n",
              "      spin 1s steps(1) infinite;\n",
              "  }\n",
              "\n",
              "  @keyframes spin {\n",
              "    0% {\n",
              "      border-color: transparent;\n",
              "      border-bottom-color: var(--fill-color);\n",
              "      border-left-color: var(--fill-color);\n",
              "    }\n",
              "    20% {\n",
              "      border-color: transparent;\n",
              "      border-left-color: var(--fill-color);\n",
              "      border-top-color: var(--fill-color);\n",
              "    }\n",
              "    30% {\n",
              "      border-color: transparent;\n",
              "      border-left-color: var(--fill-color);\n",
              "      border-top-color: var(--fill-color);\n",
              "      border-right-color: var(--fill-color);\n",
              "    }\n",
              "    40% {\n",
              "      border-color: transparent;\n",
              "      border-right-color: var(--fill-color);\n",
              "      border-top-color: var(--fill-color);\n",
              "    }\n",
              "    60% {\n",
              "      border-color: transparent;\n",
              "      border-right-color: var(--fill-color);\n",
              "    }\n",
              "    80% {\n",
              "      border-color: transparent;\n",
              "      border-right-color: var(--fill-color);\n",
              "      border-bottom-color: var(--fill-color);\n",
              "    }\n",
              "    90% {\n",
              "      border-color: transparent;\n",
              "      border-bottom-color: var(--fill-color);\n",
              "    }\n",
              "  }\n",
              "</style>\n",
              "\n",
              "  <script>\n",
              "    async function quickchart(key) {\n",
              "      const quickchartButtonEl =\n",
              "        document.querySelector('#' + key + ' button');\n",
              "      quickchartButtonEl.disabled = true;  // To prevent multiple clicks.\n",
              "      quickchartButtonEl.classList.add('colab-df-spinner');\n",
              "      try {\n",
              "        const charts = await google.colab.kernel.invokeFunction(\n",
              "            'suggestCharts', [key], {});\n",
              "      } catch (error) {\n",
              "        console.error('Error during call to suggestCharts:', error);\n",
              "      }\n",
              "      quickchartButtonEl.classList.remove('colab-df-spinner');\n",
              "      quickchartButtonEl.classList.add('colab-df-quickchart-complete');\n",
              "    }\n",
              "    (() => {\n",
              "      let quickchartButtonEl =\n",
              "        document.querySelector('#df-455268c1-a4ed-454d-879f-b05f8bafa45e button');\n",
              "      quickchartButtonEl.style.display =\n",
              "        google.colab.kernel.accessAllowed ? 'block' : 'none';\n",
              "    })();\n",
              "  </script>\n",
              "</div>\n",
              "\n",
              "    </div>\n",
              "  </div>\n"
            ],
            "application/vnd.google.colaboratory.intrinsic+json": {
              "type": "dataframe",
              "variable_name": "data",
              "summary": "{\n  \"name\": \"data\",\n  \"rows\": 1029,\n  \"fields\": [\n    {\n      \"column\": \"cw1\",\n      \"properties\": {\n        \"dtype\": \"number\",\n        \"std\": 1.7754626933197701,\n        \"min\": 3.0,\n        \"max\": 10.0,\n        \"num_unique_values\": 60,\n        \"samples\": [\n          5.9,\n          8.6,\n          8.0\n        ],\n        \"semantic_type\": \"\",\n        \"description\": \"\"\n      }\n    },\n    {\n      \"column\": \"mid-term\",\n      \"properties\": {\n        \"dtype\": \"number\",\n        \"std\": 1.6460908919720962,\n        \"min\": 3.2,\n        \"max\": 10.0,\n        \"num_unique_values\": 65,\n        \"samples\": [\n          7.1,\n          7.9,\n          4.9\n        ],\n        \"semantic_type\": \"\",\n        \"description\": \"\"\n      }\n    },\n    {\n      \"column\": \"cw2\",\n      \"properties\": {\n        \"dtype\": \"number\",\n        \"std\": 1.310105191600236,\n        \"min\": 3.3,\n        \"max\": 10.0,\n        \"num_unique_values\": 56,\n        \"samples\": [\n          7.8,\n          8.6,\n          8.8\n        ],\n        \"semantic_type\": \"\",\n        \"description\": \"\"\n      }\n    },\n    {\n      \"column\": \"final\",\n      \"properties\": {\n        \"dtype\": \"number\",\n        \"std\": 1.408289929743968,\n        \"min\": 4.2,\n        \"max\": 9.7,\n        \"num_unique_values\": 51,\n        \"samples\": [\n          7.7,\n          9.2,\n          5.3\n        ],\n        \"semantic_type\": \"\",\n        \"description\": \"\"\n      }\n    }\n  ]\n}"
            }
          },
          "metadata": {},
          "execution_count": 1
        }
      ]
    },
    {
      "cell_type": "markdown",
      "source": [
        "#3. Kiểm tra tổng quan dữ liệu"
      ],
      "metadata": {
        "id": "V4tnhWgeT1_J"
      }
    },
    {
      "cell_type": "code",
      "source": [
        "# Kiểm tra thông tin về dữ liệu\n",
        "data.info()\n",
        "\n",
        "# Xem thống kê mô tả cơ bản của dữ liệu\n",
        "data.describe()"
      ],
      "metadata": {
        "colab": {
          "base_uri": "https://localhost:8080/",
          "height": 491
        },
        "id": "x1mdPnn1S_oo",
        "outputId": "d80a68d6-aebe-47e6-f217-d65cf9e9f98c"
      },
      "execution_count": 2,
      "outputs": [
        {
          "output_type": "stream",
          "name": "stdout",
          "text": [
            "<class 'pandas.core.frame.DataFrame'>\n",
            "RangeIndex: 1029 entries, 0 to 1028\n",
            "Data columns (total 4 columns):\n",
            " #   Column    Non-Null Count  Dtype  \n",
            "---  ------    --------------  -----  \n",
            " 0   cw1       1029 non-null   float64\n",
            " 1   mid-term  1029 non-null   float64\n",
            " 2   cw2       1029 non-null   float64\n",
            " 3   final     1029 non-null   float64\n",
            "dtypes: float64(4)\n",
            "memory usage: 32.3 KB\n"
          ]
        },
        {
          "output_type": "execute_result",
          "data": {
            "text/plain": [
              "               cw1     mid-term          cw2        final\n",
              "count  1029.000000  1029.000000  1029.000000  1029.000000\n",
              "mean      6.513897     6.637221     6.590865     6.478231\n",
              "std       1.775463     1.646091     1.310105     1.408290\n",
              "min       3.000000     3.200000     3.300000     4.200000\n",
              "25%       4.900000     5.300000     5.400000     5.200000\n",
              "50%       6.500000     6.500000     6.600000     6.500000\n",
              "75%       7.800000     7.800000     7.700000     7.500000\n",
              "max      10.000000    10.000000    10.000000     9.700000"
            ],
            "text/html": [
              "\n",
              "  <div id=\"df-f47ae31a-25c6-46d0-87c3-9cc86a99ab99\" class=\"colab-df-container\">\n",
              "    <div>\n",
              "<style scoped>\n",
              "    .dataframe tbody tr th:only-of-type {\n",
              "        vertical-align: middle;\n",
              "    }\n",
              "\n",
              "    .dataframe tbody tr th {\n",
              "        vertical-align: top;\n",
              "    }\n",
              "\n",
              "    .dataframe thead th {\n",
              "        text-align: right;\n",
              "    }\n",
              "</style>\n",
              "<table border=\"1\" class=\"dataframe\">\n",
              "  <thead>\n",
              "    <tr style=\"text-align: right;\">\n",
              "      <th></th>\n",
              "      <th>cw1</th>\n",
              "      <th>mid-term</th>\n",
              "      <th>cw2</th>\n",
              "      <th>final</th>\n",
              "    </tr>\n",
              "  </thead>\n",
              "  <tbody>\n",
              "    <tr>\n",
              "      <th>count</th>\n",
              "      <td>1029.000000</td>\n",
              "      <td>1029.000000</td>\n",
              "      <td>1029.000000</td>\n",
              "      <td>1029.000000</td>\n",
              "    </tr>\n",
              "    <tr>\n",
              "      <th>mean</th>\n",
              "      <td>6.513897</td>\n",
              "      <td>6.637221</td>\n",
              "      <td>6.590865</td>\n",
              "      <td>6.478231</td>\n",
              "    </tr>\n",
              "    <tr>\n",
              "      <th>std</th>\n",
              "      <td>1.775463</td>\n",
              "      <td>1.646091</td>\n",
              "      <td>1.310105</td>\n",
              "      <td>1.408290</td>\n",
              "    </tr>\n",
              "    <tr>\n",
              "      <th>min</th>\n",
              "      <td>3.000000</td>\n",
              "      <td>3.200000</td>\n",
              "      <td>3.300000</td>\n",
              "      <td>4.200000</td>\n",
              "    </tr>\n",
              "    <tr>\n",
              "      <th>25%</th>\n",
              "      <td>4.900000</td>\n",
              "      <td>5.300000</td>\n",
              "      <td>5.400000</td>\n",
              "      <td>5.200000</td>\n",
              "    </tr>\n",
              "    <tr>\n",
              "      <th>50%</th>\n",
              "      <td>6.500000</td>\n",
              "      <td>6.500000</td>\n",
              "      <td>6.600000</td>\n",
              "      <td>6.500000</td>\n",
              "    </tr>\n",
              "    <tr>\n",
              "      <th>75%</th>\n",
              "      <td>7.800000</td>\n",
              "      <td>7.800000</td>\n",
              "      <td>7.700000</td>\n",
              "      <td>7.500000</td>\n",
              "    </tr>\n",
              "    <tr>\n",
              "      <th>max</th>\n",
              "      <td>10.000000</td>\n",
              "      <td>10.000000</td>\n",
              "      <td>10.000000</td>\n",
              "      <td>9.700000</td>\n",
              "    </tr>\n",
              "  </tbody>\n",
              "</table>\n",
              "</div>\n",
              "    <div class=\"colab-df-buttons\">\n",
              "\n",
              "  <div class=\"colab-df-container\">\n",
              "    <button class=\"colab-df-convert\" onclick=\"convertToInteractive('df-f47ae31a-25c6-46d0-87c3-9cc86a99ab99')\"\n",
              "            title=\"Convert this dataframe to an interactive table.\"\n",
              "            style=\"display:none;\">\n",
              "\n",
              "  <svg xmlns=\"http://www.w3.org/2000/svg\" height=\"24px\" viewBox=\"0 -960 960 960\">\n",
              "    <path d=\"M120-120v-720h720v720H120Zm60-500h600v-160H180v160Zm220 220h160v-160H400v160Zm0 220h160v-160H400v160ZM180-400h160v-160H180v160Zm440 0h160v-160H620v160ZM180-180h160v-160H180v160Zm440 0h160v-160H620v160Z\"/>\n",
              "  </svg>\n",
              "    </button>\n",
              "\n",
              "  <style>\n",
              "    .colab-df-container {\n",
              "      display:flex;\n",
              "      gap: 12px;\n",
              "    }\n",
              "\n",
              "    .colab-df-convert {\n",
              "      background-color: #E8F0FE;\n",
              "      border: none;\n",
              "      border-radius: 50%;\n",
              "      cursor: pointer;\n",
              "      display: none;\n",
              "      fill: #1967D2;\n",
              "      height: 32px;\n",
              "      padding: 0 0 0 0;\n",
              "      width: 32px;\n",
              "    }\n",
              "\n",
              "    .colab-df-convert:hover {\n",
              "      background-color: #E2EBFA;\n",
              "      box-shadow: 0px 1px 2px rgba(60, 64, 67, 0.3), 0px 1px 3px 1px rgba(60, 64, 67, 0.15);\n",
              "      fill: #174EA6;\n",
              "    }\n",
              "\n",
              "    .colab-df-buttons div {\n",
              "      margin-bottom: 4px;\n",
              "    }\n",
              "\n",
              "    [theme=dark] .colab-df-convert {\n",
              "      background-color: #3B4455;\n",
              "      fill: #D2E3FC;\n",
              "    }\n",
              "\n",
              "    [theme=dark] .colab-df-convert:hover {\n",
              "      background-color: #434B5C;\n",
              "      box-shadow: 0px 1px 3px 1px rgba(0, 0, 0, 0.15);\n",
              "      filter: drop-shadow(0px 1px 2px rgba(0, 0, 0, 0.3));\n",
              "      fill: #FFFFFF;\n",
              "    }\n",
              "  </style>\n",
              "\n",
              "    <script>\n",
              "      const buttonEl =\n",
              "        document.querySelector('#df-f47ae31a-25c6-46d0-87c3-9cc86a99ab99 button.colab-df-convert');\n",
              "      buttonEl.style.display =\n",
              "        google.colab.kernel.accessAllowed ? 'block' : 'none';\n",
              "\n",
              "      async function convertToInteractive(key) {\n",
              "        const element = document.querySelector('#df-f47ae31a-25c6-46d0-87c3-9cc86a99ab99');\n",
              "        const dataTable =\n",
              "          await google.colab.kernel.invokeFunction('convertToInteractive',\n",
              "                                                    [key], {});\n",
              "        if (!dataTable) return;\n",
              "\n",
              "        const docLinkHtml = 'Like what you see? Visit the ' +\n",
              "          '<a target=\"_blank\" href=https://colab.research.google.com/notebooks/data_table.ipynb>data table notebook</a>'\n",
              "          + ' to learn more about interactive tables.';\n",
              "        element.innerHTML = '';\n",
              "        dataTable['output_type'] = 'display_data';\n",
              "        await google.colab.output.renderOutput(dataTable, element);\n",
              "        const docLink = document.createElement('div');\n",
              "        docLink.innerHTML = docLinkHtml;\n",
              "        element.appendChild(docLink);\n",
              "      }\n",
              "    </script>\n",
              "  </div>\n",
              "\n",
              "\n",
              "<div id=\"df-f88e2fda-e3e6-4194-b9d6-1728645351da\">\n",
              "  <button class=\"colab-df-quickchart\" onclick=\"quickchart('df-f88e2fda-e3e6-4194-b9d6-1728645351da')\"\n",
              "            title=\"Suggest charts\"\n",
              "            style=\"display:none;\">\n",
              "\n",
              "<svg xmlns=\"http://www.w3.org/2000/svg\" height=\"24px\"viewBox=\"0 0 24 24\"\n",
              "     width=\"24px\">\n",
              "    <g>\n",
              "        <path d=\"M19 3H5c-1.1 0-2 .9-2 2v14c0 1.1.9 2 2 2h14c1.1 0 2-.9 2-2V5c0-1.1-.9-2-2-2zM9 17H7v-7h2v7zm4 0h-2V7h2v10zm4 0h-2v-4h2v4z\"/>\n",
              "    </g>\n",
              "</svg>\n",
              "  </button>\n",
              "\n",
              "<style>\n",
              "  .colab-df-quickchart {\n",
              "      --bg-color: #E8F0FE;\n",
              "      --fill-color: #1967D2;\n",
              "      --hover-bg-color: #E2EBFA;\n",
              "      --hover-fill-color: #174EA6;\n",
              "      --disabled-fill-color: #AAA;\n",
              "      --disabled-bg-color: #DDD;\n",
              "  }\n",
              "\n",
              "  [theme=dark] .colab-df-quickchart {\n",
              "      --bg-color: #3B4455;\n",
              "      --fill-color: #D2E3FC;\n",
              "      --hover-bg-color: #434B5C;\n",
              "      --hover-fill-color: #FFFFFF;\n",
              "      --disabled-bg-color: #3B4455;\n",
              "      --disabled-fill-color: #666;\n",
              "  }\n",
              "\n",
              "  .colab-df-quickchart {\n",
              "    background-color: var(--bg-color);\n",
              "    border: none;\n",
              "    border-radius: 50%;\n",
              "    cursor: pointer;\n",
              "    display: none;\n",
              "    fill: var(--fill-color);\n",
              "    height: 32px;\n",
              "    padding: 0;\n",
              "    width: 32px;\n",
              "  }\n",
              "\n",
              "  .colab-df-quickchart:hover {\n",
              "    background-color: var(--hover-bg-color);\n",
              "    box-shadow: 0 1px 2px rgba(60, 64, 67, 0.3), 0 1px 3px 1px rgba(60, 64, 67, 0.15);\n",
              "    fill: var(--button-hover-fill-color);\n",
              "  }\n",
              "\n",
              "  .colab-df-quickchart-complete:disabled,\n",
              "  .colab-df-quickchart-complete:disabled:hover {\n",
              "    background-color: var(--disabled-bg-color);\n",
              "    fill: var(--disabled-fill-color);\n",
              "    box-shadow: none;\n",
              "  }\n",
              "\n",
              "  .colab-df-spinner {\n",
              "    border: 2px solid var(--fill-color);\n",
              "    border-color: transparent;\n",
              "    border-bottom-color: var(--fill-color);\n",
              "    animation:\n",
              "      spin 1s steps(1) infinite;\n",
              "  }\n",
              "\n",
              "  @keyframes spin {\n",
              "    0% {\n",
              "      border-color: transparent;\n",
              "      border-bottom-color: var(--fill-color);\n",
              "      border-left-color: var(--fill-color);\n",
              "    }\n",
              "    20% {\n",
              "      border-color: transparent;\n",
              "      border-left-color: var(--fill-color);\n",
              "      border-top-color: var(--fill-color);\n",
              "    }\n",
              "    30% {\n",
              "      border-color: transparent;\n",
              "      border-left-color: var(--fill-color);\n",
              "      border-top-color: var(--fill-color);\n",
              "      border-right-color: var(--fill-color);\n",
              "    }\n",
              "    40% {\n",
              "      border-color: transparent;\n",
              "      border-right-color: var(--fill-color);\n",
              "      border-top-color: var(--fill-color);\n",
              "    }\n",
              "    60% {\n",
              "      border-color: transparent;\n",
              "      border-right-color: var(--fill-color);\n",
              "    }\n",
              "    80% {\n",
              "      border-color: transparent;\n",
              "      border-right-color: var(--fill-color);\n",
              "      border-bottom-color: var(--fill-color);\n",
              "    }\n",
              "    90% {\n",
              "      border-color: transparent;\n",
              "      border-bottom-color: var(--fill-color);\n",
              "    }\n",
              "  }\n",
              "</style>\n",
              "\n",
              "  <script>\n",
              "    async function quickchart(key) {\n",
              "      const quickchartButtonEl =\n",
              "        document.querySelector('#' + key + ' button');\n",
              "      quickchartButtonEl.disabled = true;  // To prevent multiple clicks.\n",
              "      quickchartButtonEl.classList.add('colab-df-spinner');\n",
              "      try {\n",
              "        const charts = await google.colab.kernel.invokeFunction(\n",
              "            'suggestCharts', [key], {});\n",
              "      } catch (error) {\n",
              "        console.error('Error during call to suggestCharts:', error);\n",
              "      }\n",
              "      quickchartButtonEl.classList.remove('colab-df-spinner');\n",
              "      quickchartButtonEl.classList.add('colab-df-quickchart-complete');\n",
              "    }\n",
              "    (() => {\n",
              "      let quickchartButtonEl =\n",
              "        document.querySelector('#df-f88e2fda-e3e6-4194-b9d6-1728645351da button');\n",
              "      quickchartButtonEl.style.display =\n",
              "        google.colab.kernel.accessAllowed ? 'block' : 'none';\n",
              "    })();\n",
              "  </script>\n",
              "</div>\n",
              "\n",
              "    </div>\n",
              "  </div>\n"
            ],
            "application/vnd.google.colaboratory.intrinsic+json": {
              "type": "dataframe",
              "summary": "{\n  \"name\": \"data\",\n  \"rows\": 8,\n  \"fields\": [\n    {\n      \"column\": \"cw1\",\n      \"properties\": {\n        \"dtype\": \"number\",\n        \"std\": 361.7707930272509,\n        \"min\": 1.7754626933197701,\n        \"max\": 1029.0,\n        \"num_unique_values\": 8,\n        \"samples\": [\n          6.513896987366375,\n          6.5,\n          1029.0\n        ],\n        \"semantic_type\": \"\",\n        \"description\": \"\"\n      }\n    },\n    {\n      \"column\": \"mid-term\",\n      \"properties\": {\n        \"dtype\": \"number\",\n        \"std\": 361.74071132712334,\n        \"min\": 1.6460908919720962,\n        \"max\": 1029.0,\n        \"num_unique_values\": 8,\n        \"samples\": [\n          6.6372206025267255,\n          6.5,\n          1029.0\n        ],\n        \"semantic_type\": \"\",\n        \"description\": \"\"\n      }\n    },\n    {\n      \"column\": \"cw2\",\n      \"properties\": {\n        \"dtype\": \"number\",\n        \"std\": 361.75031743414866,\n        \"min\": 1.310105191600236,\n        \"max\": 1029.0,\n        \"num_unique_values\": 8,\n        \"samples\": [\n          6.59086491739553,\n          6.6,\n          1029.0\n        ],\n        \"semantic_type\": \"\",\n        \"description\": \"\"\n      }\n    },\n    {\n      \"column\": \"final\",\n      \"properties\": {\n        \"dtype\": \"number\",\n        \"std\": 361.7444493229087,\n        \"min\": 1.408289929743968,\n        \"max\": 1029.0,\n        \"num_unique_values\": 8,\n        \"samples\": [\n          6.478231292517007,\n          6.5,\n          1029.0\n        ],\n        \"semantic_type\": \"\",\n        \"description\": \"\"\n      }\n    }\n  ]\n}"
            }
          },
          "metadata": {},
          "execution_count": 2
        }
      ]
    },
    {
      "cell_type": "markdown",
      "source": [
        "**Nhận xét:**\n",
        "- Dữ liệu đã được đưa về dưới dạng số thực.\n",
        "- Dữ liệu đã được chuẩn hóa về thang điểm 10.\n",
        "- Có tất cả 1029 bản ghi dữ liệu.\n"
      ],
      "metadata": {
        "id": "cSZrgH0Sd3lu"
      }
    },
    {
      "cell_type": "markdown",
      "source": [
        "#4. Kiểm tra dữ liệu thiếu"
      ],
      "metadata": {
        "id": "AWmHqC1bT_Z7"
      }
    },
    {
      "cell_type": "code",
      "source": [
        "# Kiểm tra dữ liệu thiếu\n",
        "missing_data = data.isnull().sum()\n",
        "missing_data[missing_data > 0]"
      ],
      "metadata": {
        "colab": {
          "base_uri": "https://localhost:8080/",
          "height": 84
        },
        "id": "9IYNDjVdUCeU",
        "outputId": "998f6708-9ea1-4e16-9af8-6304af95c239"
      },
      "execution_count": 3,
      "outputs": [
        {
          "output_type": "execute_result",
          "data": {
            "text/plain": [
              "Series([], dtype: int64)"
            ],
            "text/html": [
              "<div>\n",
              "<style scoped>\n",
              "    .dataframe tbody tr th:only-of-type {\n",
              "        vertical-align: middle;\n",
              "    }\n",
              "\n",
              "    .dataframe tbody tr th {\n",
              "        vertical-align: top;\n",
              "    }\n",
              "\n",
              "    .dataframe thead th {\n",
              "        text-align: right;\n",
              "    }\n",
              "</style>\n",
              "<table border=\"1\" class=\"dataframe\">\n",
              "  <thead>\n",
              "    <tr style=\"text-align: right;\">\n",
              "      <th></th>\n",
              "      <th>0</th>\n",
              "    </tr>\n",
              "  </thead>\n",
              "  <tbody>\n",
              "  </tbody>\n",
              "</table>\n",
              "</div><br><label><b>dtype:</b> int64</label>"
            ]
          },
          "metadata": {},
          "execution_count": 3
        }
      ]
    },
    {
      "cell_type": "markdown",
      "source": [
        "**Nhận xét:**\n",
        "- Ta thấy không có bản ghi nào thiếu dữ liệu trong tập dữ liệu."
      ],
      "metadata": {
        "id": "UqIJJs9Ydff2"
      }
    },
    {
      "cell_type": "markdown",
      "source": [
        "#5. Phân phối dữ liệu"
      ],
      "metadata": {
        "id": "FBSJdziqUKTz"
      }
    },
    {
      "cell_type": "code",
      "source": [
        "# Vẽ histogram cho mỗi biến\n",
        "data.hist(figsize=(10, 8), bins=30)\n",
        "plt.tight_layout()\n",
        "plt.show()"
      ],
      "metadata": {
        "colab": {
          "base_uri": "https://localhost:8080/",
          "height": 762
        },
        "id": "y1DzH-_PUPmh",
        "outputId": "5400d9fb-7a9a-4ae3-d31d-48c7c16bdb0f"
      },
      "execution_count": 4,
      "outputs": [
        {
          "output_type": "display_data",
          "data": {
            "text/plain": [
              "<Figure size 1000x800 with 4 Axes>"
            ],
            "image/png": "[encoded data removed]"
          },
          "metadata": {}
        }
      ]
    },
    {
      "cell_type": "markdown",
      "source": [
        "**Nhận xét:**\n",
        "- **cw1:** Phân phối lệch, đa số sinh viên đạt điểm từ 5 đến 7. Vậy điểm số cho bài tập này tập trung ở mức trung bình, không có nhiều sinh viên đạt điểm quá thấp hoặc quá cao.\n",
        "- **cw2:** Có phân phối lệch tương tự, nhưng số lượng sinh viên đạt điểm cao nhiều hơn so với cw1.\n",
        "- **mid-term:** Phân phối khá cân đối, số lượng sinh viên đạt điểm trung bình khá lớn, cho thấy sự cân bằng trong đánh giá khả năng của sinh viên ở kỳ thi này.\n",
        "- **final:** Có sự phân tán khá rộng, một số sinh viên đạt điểm rất cao và một số đạt điểm rất thấp, dữ liệu có độ biến thiên khá lớn.\n",
        "\n",
        "Các biến này không tuân theo phân phối chuẩn, có thể ảnh hưởng đến các mô hình yêu cầu dữ liệu chuẩn."
      ],
      "metadata": {
        "id": "hhvjuSc7ejv9"
      }
    },
    {
      "cell_type": "markdown",
      "source": [
        "#6. Ma trận tương quan"
      ],
      "metadata": {
        "id": "ItTe9LPOUT07"
      }
    },
    {
      "cell_type": "code",
      "source": [
        "# Vẽ heatmap để xem mối tương quan\n",
        "plt.figure(figsize=(10, 8))\n",
        "sns.heatmap(data[['cw1', 'mid-term', 'cw2', 'final']].corr(), annot=True, cmap='coolwarm')\n",
        "plt.title('Ma trận tương quan giữa các biến')\n",
        "plt.show()"
      ],
      "metadata": {
        "colab": {
          "base_uri": "https://localhost:8080/",
          "height": 700
        },
        "id": "WwrOVFMQUYYn",
        "outputId": "0100b1c0-27ac-4889-e125-e707c5c0d625"
      },
      "execution_count": 5,
      "outputs": [
        {
          "output_type": "display_data",
          "data": {
            "text/plain": [
              "<Figure size 1000x800 with 2 Axes>"
            ],
            "image/png": "[encoded data removed]"
          },
          "metadata": {}
        }
      ]
    },
    {
      "cell_type": "markdown",
      "source": [
        "**Nhận xét:**\n",
        "- **cw1 và cw2:** mối tương quan dương nhẹ, tức là sinh viên đạt điểm cao ở cw1 có thể cũng đạt điểm cao ở cw2, nhưng không phải lúc nào cũng vậy.\n",
        "- **mid-term và cw1:** Mối tương quan cao, có thể do thời gian giữa 2 bài kiểm tra này sát nhau hơn các bài kiểm tra khác.\n",
        "- **mid-term và cw2:** Mối tương quan giữa điểm giữa kỳ và bài tập không quá mạnh, có thể các yếu tố đánh giá trong 2 bài kiểm tra này khác nhau và đánh giá các khía cạnh khác nhau của kiến thức sinh viên.\n",
        "- **cw2 và final:** Mối tương quan mạnh nhất xuất hiện giữa cw2 và final, vậy điểm số cao ở bài tập thứ hai thường dẫn đến điểm thi cuối kỳ cao.\n",
        "\n",
        "Ta thấy ***cw2*** có mối tương quan rất mạnh với ***final*** ( khoảng 0.9) cho thấy đây là một biến quan trọng trong việc dự đoán điểm cuối kỳ. Biến này có thể cần được chú ý khi chọn thuộc tính dự đoán."
      ],
      "metadata": {
        "id": "bI7Gk1E7fxgz"
      }
    },
    {
      "cell_type": "markdown",
      "source": [
        "#7. Boxplot để tìm outliers"
      ],
      "metadata": {
        "id": "QnEeh0RrUf5D"
      }
    },
    {
      "cell_type": "code",
      "source": [
        "# Vẽ box plot cho các biến cụ thể\n",
        "import warnings\n",
        "warnings.filterwarnings(\"ignore\", category=FutureWarning)\n",
        "\n",
        "plt.figure(figsize=(12, 8))\n",
        "sns.boxplot(data=data[['cw1', 'mid-term', 'cw2', 'final']])\n",
        "plt.title('Box Plot cho các biến')\n",
        "plt.show()"
      ],
      "metadata": {
        "colab": {
          "base_uri": "https://localhost:8080/",
          "height": 668
        },
        "id": "nIoTjQKnUhxB",
        "outputId": "07f7bc3d-e549-446a-eb1d-0a65a7c649fa"
      },
      "execution_count": 16,
      "outputs": [
        {
          "output_type": "display_data",
          "data": {
            "text/plain": [
              "<Figure size 1200x800 with 1 Axes>"
            ],
            "image/png": "[encoded data removed]"
          },
          "metadata": {}
        }
      ]
    },
    {
      "cell_type": "markdown",
      "source": [
        "**Nhận xét:**\n",
        "- ***cw1*** và ***mid-term*** có phân bố tương tự nhưng ít quan trọng hơn trong việc dự đoán ***final***, dựa trên phân tích cả heatmap và boxplot.\n",
        "- ***cw2*** có xu hướng điểm cao và ít biến động hơn, phù hợp với mối quan hệ mạnh mẽ với ***final***.\n",
        "- Các boxplot đều cho thấy các biến không có nhiều giá trị ngoại lệ, tức là dữ liệu khá sạch và không có nhiều giá trị bất thường."
      ],
      "metadata": {
        "id": "N06qnsV1h6tV"
      }
    },
    {
      "cell_type": "markdown",
      "source": [
        "#8. Lựa chọn mô hình\n",
        "\n",
        "**Nhận xét tổng quan:**\n",
        "- Dữ liệu không tuân theo phân phối chuẩn, có độ biến thiên lớn ở biến mục tiêu ***final***, và có mối tương quan yếu giữa một số biến với biến mục tiêu.\n",
        "- Có mối tương quan mạnh mẽ giữa ***cw2*** và ***final***.\n",
        "- Một số biến như ***mid-term*** và ***cw1*** cũng thể hiện mối tương quan khá lớn.\n",
        "\n",
        "Vậy, mô hình đơn giản như Linear Regression có vẻ không phù hợp trong trường hợp này, vì sự phân tán lớn của biến mục tiêu cũng như mối tương quan của mạnh một số biến có thể dẫn đến overfitting.\n",
        "\n",
        "Xem xét sử dụng regularization trong trường hợp này có thể hợp lý. Chúng tôi đã xem xét mô hình Ridge Regression và Lasso Regression, là hai loại phổ biến nhất, và nhận thấy rằng Ridge Regression phù hợp hơn, do: Ridge Regression sẽ giúp giảm tác động của multicollinearity (tương quan tuyến tính giữa các biến) bằng cách làm giảm giá trị và phân bổ  các trọng số mà không *hoàn toàn loại bỏ* đi những thuộc tính có tương quan yếu (điều mà Lasso có thể sẽ làm).\n",
        "\n",
        "Trong trường hợp này, chúng tôi muốn giữ nhận định rằng điểm các bài kiểm tra đều có vai trò đóng góp đối với ***final*** (dù mức độ đóng góp khác nhau).\n",
        "\n",
        "\n",
        "- Sử dụng các mô hình có khả năng linh hoạt như Decision Tree để xử lý các yếu tố phi tuyến tính và phân phối không đồng đều của dữ liệu cũng có thể là lựa chọn tốt.\n",
        "\n",
        "**Tổng kết:**\n",
        "- Xem xét trên khả năng hiện tại của đội nhóm cùng các yếu tố về thời gian khác, chúng tôi quyết định sử dụng 2 mô hình là: ***Ridge Regression*** và ***Decision Tree***.\n",
        "\n",
        "\n",
        "- Đồng thời, do sự biến thiên lớn của biến mục tiêu, chúng tôi sử dụng **K-fold cross-validation** để đảm bảo rằng mô hình không bị overfitting và có thể tổng quát hóa trên các tập dữ liệu chưa thấy.\n"
      ],
      "metadata": {
        "id": "hD7UeGuHdAJY"
      }
    },
    {
      "cell_type": "markdown",
      "source": [
        "#9. Chia dữ liệu thành tập huấn luyện và kiểm tra"
      ],
      "metadata": {
        "id": "BrmsKHIwU3qI"
      }
    },
    {
      "cell_type": "code",
      "source": [
        "from sklearn.model_selection import train_test_split\n",
        "from sklearn.model_selection import KFold\n",
        "\n",
        "# Chuẩn bị biến đầu vào (X) và đầu ra (y)\n",
        "X = data[['cw1', 'mid-term', 'cw2']]  # Chọn các biến đầu vào\n",
        "y = data['final']                      # Biến đầu ra\n",
        "\n",
        "# Chia dữ liệu thành tập huấn luyện và tập kiểm tra\n",
        "X_train, X_test, y_train, y_test = train_test_split(X, y, test_size=0.2, random_state=42)\n",
        "\n",
        "# In ra kích thước của các tập dữ liệu\n",
        "print(f'Size of training set: {X_train.shape[0]}')\n",
        "print(f'Size of test set: {X_test.shape[0]}')"
      ],
      "metadata": {
        "colab": {
          "base_uri": "https://localhost:8080/",
          "height": 0
        },
        "id": "5JFMV8qpU9AS",
        "outputId": "f18d71a0-1437-4c54-bad8-dd21f980963e"
      },
      "execution_count": 8,
      "outputs": [
        {
          "output_type": "stream",
          "name": "stdout",
          "text": [
            "Size of training set: 823\n",
            "Size of test set: 206\n"
          ]
        }
      ]
    },
    {
      "cell_type": "code",
      "source": [
        "# Kiểm tra các phần tử đầu tiên của tập huấn luyện và kiểm tra\n",
        "print(\"Training set features:\")\n",
        "print(X_train.head())\n",
        "\n",
        "print(\"\\nTraining set target:\")\n",
        "print(y_train.head())\n",
        "\n",
        "print(\"\\nTest set features:\")\n",
        "print(X_test.head())\n",
        "\n",
        "print(\"\\nTest set target:\")\n",
        "print(y_test.head())\n"
      ],
      "metadata": {
        "colab": {
          "base_uri": "https://localhost:8080/",
          "height": 0
        },
        "id": "V75a2MUnVKlW",
        "outputId": "90a2659a-fba0-4191-ef12-3435385fc4d0"
      },
      "execution_count": 9,
      "outputs": [
        {
          "output_type": "stream",
          "name": "stdout",
          "text": [
            "Training set features:\n",
            "     cw1  mid-term  cw2\n",
            "404  7.3       6.4  7.1\n",
            "988  5.7       9.8  4.2\n",
            "522  4.9       5.5  7.8\n",
            "482  7.9       7.5  9.0\n",
            "445  9.0       8.1  7.8\n",
            "\n",
            "Training set target:\n",
            "404    6.8\n",
            "988    4.4\n",
            "522    7.9\n",
            "482    8.8\n",
            "445    6.3\n",
            "Name: final, dtype: float64\n",
            "\n",
            "Test set features:\n",
            "     cw1  mid-term  cw2\n",
            "290  6.0       5.3  6.0\n",
            "534  9.6       8.9  8.5\n",
            "261  6.0       5.3  6.9\n",
            "107  8.7       8.6  7.7\n",
            "425  5.5       6.7  6.9\n",
            "\n",
            "Test set target:\n",
            "290    6.6\n",
            "534    8.7\n",
            "261    6.6\n",
            "107    7.5\n",
            "425    7.0\n",
            "Name: final, dtype: float64\n"
          ]
        }
      ]
    },
    {
      "cell_type": "code",
      "source": [
        "# Lưu tập huấn luyện\n",
        "train_data = pd.DataFrame(X_train)\n",
        "train_data['final'] = y_train  # Thêm biến đầu ra vào tập huấn luyện\n",
        "train_data.to_csv('/content/train_data.csv', index=False)\n",
        "\n",
        "# Lưu tập kiểm tra\n",
        "test_data = pd.DataFrame(X_test)\n",
        "test_data['final'] = y_test  # Thêm biến đầu ra vào tập kiểm tra\n",
        "test_data.to_csv('/content/test_data.csv', index=False)\n",
        "\n",
        "print(\"Train and test datasets saved as 'train_data.csv' and 'test_data.csv'.\")"
      ],
      "metadata": {
        "colab": {
          "base_uri": "https://localhost:8080/",
          "height": 0
        },
        "id": "N915K_t9VOHO",
        "outputId": "1c239da9-f9e6-4ed8-966d-ceb6679942ff"
      },
      "execution_count": 13,
      "outputs": [
        {
          "output_type": "stream",
          "name": "stdout",
          "text": [
            "Train and test datasets saved as 'train_data.csv' and 'test_data.csv'.\n"
          ]
        }
      ]
    },
    {
      "cell_type": "markdown",
      "source": [
        "#10. Thiết lập K-fold cross validation"
      ],
      "metadata": {
        "id": "keZgsb4QV9Ia"
      }
    },
    {
      "cell_type": "code",
      "source": [
        "# Thiết lập K-Fold\n",
        "kf = KFold(n_splits=5, shuffle=True, random_state=42)\n",
        "\n",
        "# Lưu từng fold vào các tệp CSV\n",
        "for fold, (train_index, val_index) in enumerate(kf.split(X_train)):\n",
        "    X_fold_train, X_fold_val = X_train.iloc[train_index], X_train.iloc[val_index]\n",
        "    y_fold_train, y_fold_val = y_train.iloc[train_index], y_train.iloc[val_index]\n",
        "\n",
        "    # Tạo DataFrame cho tập huấn luyện và tập kiểm tra của fold hiện tại\n",
        "    fold_train_data = pd.DataFrame(X_fold_train)\n",
        "    fold_train_data['final'] = y_fold_train.reset_index(drop=True)  # Thêm biến đầu ra\n",
        "\n",
        "    fold_val_data = pd.DataFrame(X_fold_val)\n",
        "    fold_val_data['final'] = y_fold_val.reset_index(drop=True)  # Thêm biến đầu ra\n",
        "\n",
        "    # Lưu vào tệp CSV\n",
        "    fold_train_data.to_csv(f'/content/fold_{fold}_train.csv', index=False)\n",
        "    fold_val_data.to_csv(f'/content/fold_{fold}_val.csv', index=False)\n",
        "\n",
        "    print(f'Saved fold {fold} train and validation data to CSV files.')\n"
      ],
      "metadata": {
        "colab": {
          "base_uri": "https://localhost:8080/",
          "height": 0
        },
        "id": "2Bwn9P55Vh-c",
        "outputId": "3cf4ef41-8f00-4f51-9634-4a8204ed2777"
      },
      "execution_count": 15,
      "outputs": [
        {
          "output_type": "stream",
          "name": "stdout",
          "text": [
            "Saved fold 0 train and validation data to CSV files.\n",
            "Saved fold 1 train and validation data to CSV files.\n",
            "Saved fold 2 train and validation data to CSV files.\n",
            "Saved fold 3 train and validation data to CSV files.\n",
            "Saved fold 4 train and validation data to CSV files.\n"
          ]
        }
      ]
    }
  ]
}